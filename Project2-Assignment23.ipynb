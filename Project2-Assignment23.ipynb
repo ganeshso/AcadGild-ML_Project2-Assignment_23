{
 "cells": [
  {
   "cell_type": "markdown",
   "metadata": {},
   "source": [
    "**Assignment 23 - Project 2**"
   ]
  },
  {
   "cell_type": "code",
   "execution_count": 96,
   "metadata": {},
   "outputs": [],
   "source": [
    "# Predicting players rating:\n",
    "# In this project you are going to predict the overall rating of soccer player based on their attributes\n",
    "# such as 'crossing', 'finishing etc.\n",
    "\n",
    "# The dataset you are going to use is from European Soccer Database \n",
    "# (https://www.kaggle.com/hugomathien/soccer) has more than 25,000 matches and more than\n",
    "# 10,000 players for European professional soccer seasons from 2008 to 2016.\n",
    "# Download the data in the same folder and run the following commmand to get it in the environment\n",
    "\n",
    "# About the Dataset:\n",
    "# The ultimate Soccer database for data analysis and machine learning:\n",
    "# The dataset comes in the form of an SQL database and contains statistics of about 25,000 football\n",
    "# matches, from the top football league of 11 European Countries. It covers seasons from 2008 to\n",
    "# 2016 and contains match statistics (i.e: scores, corners, fouls etc...) as well as the team formations,\n",
    "# with player names and a pair of coordinates to indicate their position on the pitch.\n",
    "# +25,000 matches\n",
    "# +10,000 players\n",
    "# 11 European Countries with their lead championship\n",
    "# Seasons 2008 to 2016\n",
    "# Players and Teams' attributes* sourced from EA Sports' FIFA video game series, including the\n",
    "# weekly updates\n",
    "# Team line up with squad formation (X, Y coordinates)\n",
    "# Betting odds from up to 10 providers\n",
    "# Detailed match events (goal types, possession, corner, cross, fouls, cards etc...) for +10,000\n",
    "# matches\n",
    "\n",
    "# The dataset also has a set of about 35 statistics for each player, derived from EA Sports' FIFA video\n",
    "# games. It is not just the stats that come with a new version of the game but also the weekly\n",
    "# updates. So for instance if a player has performed poorly over a period of time and his stats get\n",
    "# impacted in FIFA, you would normally see the same in the dataset.\n",
    "\n",
    "# Import Libraries:\n",
    "# # import sqlite3\n",
    "# # import pandas as pd\n",
    "# # from sklearn.tree import DecisionTreeRegressor\n",
    "# # from sklearn.linear_model import LinearRegression\n",
    "# # from sklearn.model_selection import train_test_split\n",
    "# # from sklearn.metrics import mean_squared_error\n",
    "# # from math import sqrt\n",
    "\n",
    "# Read Data from the Database into pandas:\n",
    "# # # Create your connection.\n",
    "# # cnx = sqlite3.connect('database.sqlite')\n",
    "# # df = pd.read_sql_query(\"SELECT * FROM Player_Attributes\", cnx)"
   ]
  },
  {
   "cell_type": "markdown",
   "metadata": {},
   "source": [
    "# Import  Libraries"
   ]
  },
  {
   "cell_type": "code",
   "execution_count": 5,
   "metadata": {},
   "outputs": [],
   "source": [
    "# Core Libraries - Data manipulation and analysis\n",
    "import pandas as pd\n",
    "import numpy as np\n",
    "import math\n",
    "from math import sqrt\n",
    "import matplotlib.pyplot as plt\n",
    "import seaborn as sns\n",
    "\n",
    "# Core Libraries - loading data from sqlite database\n",
    "import sqlite3\n",
    " \n",
    "# Core Libraries - Machine Learning\n",
    "import sklearn\n",
    "\n",
    "## Importing train_test_split,cross_val_score,GridSearchCV,KFold, RandomizedSearchCV - Validation and OptimizationC\n",
    "from sklearn.model_selection import ShuffleSplit, train_test_split,cross_val_score,GridSearchCV,KFold, RandomizedSearchCV\n",
    "\n",
    "# Importing Regressors - Modelling\n",
    "from sklearn.linear_model import LinearRegression, Ridge, Lasso, ElasticNet\n",
    "from sklearn.tree import DecisionTreeRegressor\n",
    "from sklearn.ensemble import GradientBoostingRegressor, RandomForestRegressor, AdaBoostRegressor\n",
    "\n",
    "# Importing Regression Metrics - Performance Evaluation\n",
    "from sklearn.metrics import mean_squared_error\n",
    "from sklearn.metrics import r2_score\n",
    "\n",
    "import pickle"
   ]
  },
  {
   "cell_type": "code",
   "execution_count": 6,
   "metadata": {},
   "outputs": [],
   "source": [
    "%matplotlib inline"
   ]
  },
  {
   "cell_type": "code",
   "execution_count": 7,
   "metadata": {},
   "outputs": [],
   "source": [
    "# Create your connection\n",
    "cnx = sqlite3.connect('database.sqlite')"
   ]
  },
  {
   "cell_type": "code",
   "execution_count": 8,
   "metadata": {},
   "outputs": [],
   "source": [
    "# Loading the dataframe with the data from the Player_Attributes Table\n",
    "player_attrib = pd.read_sql_query(\"SELECT * FROM Player_Attributes\", cnx)"
   ]
  },
  {
   "cell_type": "code",
   "execution_count": 9,
   "metadata": {},
   "outputs": [
    {
     "data": {
      "text/html": [
       "<div>\n",
       "<style scoped>\n",
       "    .dataframe tbody tr th:only-of-type {\n",
       "        vertical-align: middle;\n",
       "    }\n",
       "\n",
       "    .dataframe tbody tr th {\n",
       "        vertical-align: top;\n",
       "    }\n",
       "\n",
       "    .dataframe thead th {\n",
       "        text-align: right;\n",
       "    }\n",
       "</style>\n",
       "<table border=\"1\" class=\"dataframe\">\n",
       "  <thead>\n",
       "    <tr style=\"text-align: right;\">\n",
       "      <th></th>\n",
       "      <th>id</th>\n",
       "      <th>player_fifa_api_id</th>\n",
       "      <th>player_api_id</th>\n",
       "      <th>date</th>\n",
       "      <th>overall_rating</th>\n",
       "      <th>potential</th>\n",
       "      <th>preferred_foot</th>\n",
       "      <th>attacking_work_rate</th>\n",
       "      <th>defensive_work_rate</th>\n",
       "      <th>crossing</th>\n",
       "      <th>...</th>\n",
       "      <th>vision</th>\n",
       "      <th>penalties</th>\n",
       "      <th>marking</th>\n",
       "      <th>standing_tackle</th>\n",
       "      <th>sliding_tackle</th>\n",
       "      <th>gk_diving</th>\n",
       "      <th>gk_handling</th>\n",
       "      <th>gk_kicking</th>\n",
       "      <th>gk_positioning</th>\n",
       "      <th>gk_reflexes</th>\n",
       "    </tr>\n",
       "  </thead>\n",
       "  <tbody>\n",
       "    <tr>\n",
       "      <th>0</th>\n",
       "      <td>1</td>\n",
       "      <td>218353</td>\n",
       "      <td>505942</td>\n",
       "      <td>2016-02-18 00:00:00</td>\n",
       "      <td>67.0</td>\n",
       "      <td>71.0</td>\n",
       "      <td>right</td>\n",
       "      <td>medium</td>\n",
       "      <td>medium</td>\n",
       "      <td>49.0</td>\n",
       "      <td>...</td>\n",
       "      <td>54.0</td>\n",
       "      <td>48.0</td>\n",
       "      <td>65.0</td>\n",
       "      <td>69.0</td>\n",
       "      <td>69.0</td>\n",
       "      <td>6.0</td>\n",
       "      <td>11.0</td>\n",
       "      <td>10.0</td>\n",
       "      <td>8.0</td>\n",
       "      <td>8.0</td>\n",
       "    </tr>\n",
       "    <tr>\n",
       "      <th>1</th>\n",
       "      <td>2</td>\n",
       "      <td>218353</td>\n",
       "      <td>505942</td>\n",
       "      <td>2015-11-19 00:00:00</td>\n",
       "      <td>67.0</td>\n",
       "      <td>71.0</td>\n",
       "      <td>right</td>\n",
       "      <td>medium</td>\n",
       "      <td>medium</td>\n",
       "      <td>49.0</td>\n",
       "      <td>...</td>\n",
       "      <td>54.0</td>\n",
       "      <td>48.0</td>\n",
       "      <td>65.0</td>\n",
       "      <td>69.0</td>\n",
       "      <td>69.0</td>\n",
       "      <td>6.0</td>\n",
       "      <td>11.0</td>\n",
       "      <td>10.0</td>\n",
       "      <td>8.0</td>\n",
       "      <td>8.0</td>\n",
       "    </tr>\n",
       "    <tr>\n",
       "      <th>2</th>\n",
       "      <td>3</td>\n",
       "      <td>218353</td>\n",
       "      <td>505942</td>\n",
       "      <td>2015-09-21 00:00:00</td>\n",
       "      <td>62.0</td>\n",
       "      <td>66.0</td>\n",
       "      <td>right</td>\n",
       "      <td>medium</td>\n",
       "      <td>medium</td>\n",
       "      <td>49.0</td>\n",
       "      <td>...</td>\n",
       "      <td>54.0</td>\n",
       "      <td>48.0</td>\n",
       "      <td>65.0</td>\n",
       "      <td>66.0</td>\n",
       "      <td>69.0</td>\n",
       "      <td>6.0</td>\n",
       "      <td>11.0</td>\n",
       "      <td>10.0</td>\n",
       "      <td>8.0</td>\n",
       "      <td>8.0</td>\n",
       "    </tr>\n",
       "    <tr>\n",
       "      <th>3</th>\n",
       "      <td>4</td>\n",
       "      <td>218353</td>\n",
       "      <td>505942</td>\n",
       "      <td>2015-03-20 00:00:00</td>\n",
       "      <td>61.0</td>\n",
       "      <td>65.0</td>\n",
       "      <td>right</td>\n",
       "      <td>medium</td>\n",
       "      <td>medium</td>\n",
       "      <td>48.0</td>\n",
       "      <td>...</td>\n",
       "      <td>53.0</td>\n",
       "      <td>47.0</td>\n",
       "      <td>62.0</td>\n",
       "      <td>63.0</td>\n",
       "      <td>66.0</td>\n",
       "      <td>5.0</td>\n",
       "      <td>10.0</td>\n",
       "      <td>9.0</td>\n",
       "      <td>7.0</td>\n",
       "      <td>7.0</td>\n",
       "    </tr>\n",
       "    <tr>\n",
       "      <th>4</th>\n",
       "      <td>5</td>\n",
       "      <td>218353</td>\n",
       "      <td>505942</td>\n",
       "      <td>2007-02-22 00:00:00</td>\n",
       "      <td>61.0</td>\n",
       "      <td>65.0</td>\n",
       "      <td>right</td>\n",
       "      <td>medium</td>\n",
       "      <td>medium</td>\n",
       "      <td>48.0</td>\n",
       "      <td>...</td>\n",
       "      <td>53.0</td>\n",
       "      <td>47.0</td>\n",
       "      <td>62.0</td>\n",
       "      <td>63.0</td>\n",
       "      <td>66.0</td>\n",
       "      <td>5.0</td>\n",
       "      <td>10.0</td>\n",
       "      <td>9.0</td>\n",
       "      <td>7.0</td>\n",
       "      <td>7.0</td>\n",
       "    </tr>\n",
       "  </tbody>\n",
       "</table>\n",
       "<p>5 rows × 42 columns</p>\n",
       "</div>"
      ],
      "text/plain": [
       "   id  player_fifa_api_id  player_api_id                 date  overall_rating  \\\n",
       "0   1              218353         505942  2016-02-18 00:00:00            67.0   \n",
       "1   2              218353         505942  2015-11-19 00:00:00            67.0   \n",
       "2   3              218353         505942  2015-09-21 00:00:00            62.0   \n",
       "3   4              218353         505942  2015-03-20 00:00:00            61.0   \n",
       "4   5              218353         505942  2007-02-22 00:00:00            61.0   \n",
       "\n",
       "   potential preferred_foot attacking_work_rate defensive_work_rate  crossing  \\\n",
       "0       71.0          right              medium              medium      49.0   \n",
       "1       71.0          right              medium              medium      49.0   \n",
       "2       66.0          right              medium              medium      49.0   \n",
       "3       65.0          right              medium              medium      48.0   \n",
       "4       65.0          right              medium              medium      48.0   \n",
       "\n",
       "      ...       vision  penalties  marking  standing_tackle  sliding_tackle  \\\n",
       "0     ...         54.0       48.0     65.0             69.0            69.0   \n",
       "1     ...         54.0       48.0     65.0             69.0            69.0   \n",
       "2     ...         54.0       48.0     65.0             66.0            69.0   \n",
       "3     ...         53.0       47.0     62.0             63.0            66.0   \n",
       "4     ...         53.0       47.0     62.0             63.0            66.0   \n",
       "\n",
       "   gk_diving  gk_handling  gk_kicking  gk_positioning  gk_reflexes  \n",
       "0        6.0         11.0        10.0             8.0          8.0  \n",
       "1        6.0         11.0        10.0             8.0          8.0  \n",
       "2        6.0         11.0        10.0             8.0          8.0  \n",
       "3        5.0         10.0         9.0             7.0          7.0  \n",
       "4        5.0         10.0         9.0             7.0          7.0  \n",
       "\n",
       "[5 rows x 42 columns]"
      ]
     },
     "execution_count": 9,
     "metadata": {},
     "output_type": "execute_result"
    }
   ],
   "source": [
    "player_attrib.head()"
   ]
  },
  {
   "cell_type": "markdown",
   "metadata": {},
   "source": [
    "# Understand Dataset and Data"
   ]
  },
  {
   "cell_type": "markdown",
   "metadata": {},
   "source": [
    "Get the basic information about the dataset"
   ]
  },
  {
   "cell_type": "code",
   "execution_count": 10,
   "metadata": {},
   "outputs": [
    {
     "name": "stdout",
     "output_type": "stream",
     "text": [
      "Index(['id', 'player_fifa_api_id', 'player_api_id', 'date', 'overall_rating',\n",
      "       'potential', 'preferred_foot', 'attacking_work_rate',\n",
      "       'defensive_work_rate', 'crossing', 'finishing', 'heading_accuracy',\n",
      "       'short_passing', 'volleys', 'dribbling', 'curve', 'free_kick_accuracy',\n",
      "       'long_passing', 'ball_control', 'acceleration', 'sprint_speed',\n",
      "       'agility', 'reactions', 'balance', 'shot_power', 'jumping', 'stamina',\n",
      "       'strength', 'long_shots', 'aggression', 'interceptions', 'positioning',\n",
      "       'vision', 'penalties', 'marking', 'standing_tackle', 'sliding_tackle',\n",
      "       'gk_diving', 'gk_handling', 'gk_kicking', 'gk_positioning',\n",
      "       'gk_reflexes'],\n",
      "      dtype='object')\n"
     ]
    }
   ],
   "source": [
    "print(player_attrib.columns)"
   ]
  },
  {
   "cell_type": "code",
   "execution_count": 11,
   "metadata": {},
   "outputs": [
    {
     "name": "stdout",
     "output_type": "stream",
     "text": [
      "(183978, 42)\n"
     ]
    }
   ],
   "source": [
    "print(player_attrib.shape)"
   ]
  },
  {
   "cell_type": "code",
   "execution_count": 12,
   "metadata": {},
   "outputs": [
    {
     "data": {
      "text/html": [
       "<div>\n",
       "<style scoped>\n",
       "    .dataframe tbody tr th:only-of-type {\n",
       "        vertical-align: middle;\n",
       "    }\n",
       "\n",
       "    .dataframe tbody tr th {\n",
       "        vertical-align: top;\n",
       "    }\n",
       "\n",
       "    .dataframe thead th {\n",
       "        text-align: right;\n",
       "    }\n",
       "</style>\n",
       "<table border=\"1\" class=\"dataframe\">\n",
       "  <thead>\n",
       "    <tr style=\"text-align: right;\">\n",
       "      <th></th>\n",
       "      <th>id</th>\n",
       "      <th>player_fifa_api_id</th>\n",
       "      <th>player_api_id</th>\n",
       "      <th>date</th>\n",
       "      <th>overall_rating</th>\n",
       "      <th>potential</th>\n",
       "      <th>preferred_foot</th>\n",
       "      <th>attacking_work_rate</th>\n",
       "      <th>defensive_work_rate</th>\n",
       "      <th>crossing</th>\n",
       "      <th>...</th>\n",
       "      <th>vision</th>\n",
       "      <th>penalties</th>\n",
       "      <th>marking</th>\n",
       "      <th>standing_tackle</th>\n",
       "      <th>sliding_tackle</th>\n",
       "      <th>gk_diving</th>\n",
       "      <th>gk_handling</th>\n",
       "      <th>gk_kicking</th>\n",
       "      <th>gk_positioning</th>\n",
       "      <th>gk_reflexes</th>\n",
       "    </tr>\n",
       "  </thead>\n",
       "  <tbody>\n",
       "    <tr>\n",
       "      <th>0</th>\n",
       "      <td>1</td>\n",
       "      <td>218353</td>\n",
       "      <td>505942</td>\n",
       "      <td>2016-02-18 00:00:00</td>\n",
       "      <td>67.0</td>\n",
       "      <td>71.0</td>\n",
       "      <td>right</td>\n",
       "      <td>medium</td>\n",
       "      <td>medium</td>\n",
       "      <td>49.0</td>\n",
       "      <td>...</td>\n",
       "      <td>54.0</td>\n",
       "      <td>48.0</td>\n",
       "      <td>65.0</td>\n",
       "      <td>69.0</td>\n",
       "      <td>69.0</td>\n",
       "      <td>6.0</td>\n",
       "      <td>11.0</td>\n",
       "      <td>10.0</td>\n",
       "      <td>8.0</td>\n",
       "      <td>8.0</td>\n",
       "    </tr>\n",
       "    <tr>\n",
       "      <th>1</th>\n",
       "      <td>2</td>\n",
       "      <td>218353</td>\n",
       "      <td>505942</td>\n",
       "      <td>2015-11-19 00:00:00</td>\n",
       "      <td>67.0</td>\n",
       "      <td>71.0</td>\n",
       "      <td>right</td>\n",
       "      <td>medium</td>\n",
       "      <td>medium</td>\n",
       "      <td>49.0</td>\n",
       "      <td>...</td>\n",
       "      <td>54.0</td>\n",
       "      <td>48.0</td>\n",
       "      <td>65.0</td>\n",
       "      <td>69.0</td>\n",
       "      <td>69.0</td>\n",
       "      <td>6.0</td>\n",
       "      <td>11.0</td>\n",
       "      <td>10.0</td>\n",
       "      <td>8.0</td>\n",
       "      <td>8.0</td>\n",
       "    </tr>\n",
       "    <tr>\n",
       "      <th>2</th>\n",
       "      <td>3</td>\n",
       "      <td>218353</td>\n",
       "      <td>505942</td>\n",
       "      <td>2015-09-21 00:00:00</td>\n",
       "      <td>62.0</td>\n",
       "      <td>66.0</td>\n",
       "      <td>right</td>\n",
       "      <td>medium</td>\n",
       "      <td>medium</td>\n",
       "      <td>49.0</td>\n",
       "      <td>...</td>\n",
       "      <td>54.0</td>\n",
       "      <td>48.0</td>\n",
       "      <td>65.0</td>\n",
       "      <td>66.0</td>\n",
       "      <td>69.0</td>\n",
       "      <td>6.0</td>\n",
       "      <td>11.0</td>\n",
       "      <td>10.0</td>\n",
       "      <td>8.0</td>\n",
       "      <td>8.0</td>\n",
       "    </tr>\n",
       "    <tr>\n",
       "      <th>3</th>\n",
       "      <td>4</td>\n",
       "      <td>218353</td>\n",
       "      <td>505942</td>\n",
       "      <td>2015-03-20 00:00:00</td>\n",
       "      <td>61.0</td>\n",
       "      <td>65.0</td>\n",
       "      <td>right</td>\n",
       "      <td>medium</td>\n",
       "      <td>medium</td>\n",
       "      <td>48.0</td>\n",
       "      <td>...</td>\n",
       "      <td>53.0</td>\n",
       "      <td>47.0</td>\n",
       "      <td>62.0</td>\n",
       "      <td>63.0</td>\n",
       "      <td>66.0</td>\n",
       "      <td>5.0</td>\n",
       "      <td>10.0</td>\n",
       "      <td>9.0</td>\n",
       "      <td>7.0</td>\n",
       "      <td>7.0</td>\n",
       "    </tr>\n",
       "    <tr>\n",
       "      <th>4</th>\n",
       "      <td>5</td>\n",
       "      <td>218353</td>\n",
       "      <td>505942</td>\n",
       "      <td>2007-02-22 00:00:00</td>\n",
       "      <td>61.0</td>\n",
       "      <td>65.0</td>\n",
       "      <td>right</td>\n",
       "      <td>medium</td>\n",
       "      <td>medium</td>\n",
       "      <td>48.0</td>\n",
       "      <td>...</td>\n",
       "      <td>53.0</td>\n",
       "      <td>47.0</td>\n",
       "      <td>62.0</td>\n",
       "      <td>63.0</td>\n",
       "      <td>66.0</td>\n",
       "      <td>5.0</td>\n",
       "      <td>10.0</td>\n",
       "      <td>9.0</td>\n",
       "      <td>7.0</td>\n",
       "      <td>7.0</td>\n",
       "    </tr>\n",
       "  </tbody>\n",
       "</table>\n",
       "<p>5 rows × 42 columns</p>\n",
       "</div>"
      ],
      "text/plain": [
       "   id  player_fifa_api_id  player_api_id                 date  overall_rating  \\\n",
       "0   1              218353         505942  2016-02-18 00:00:00            67.0   \n",
       "1   2              218353         505942  2015-11-19 00:00:00            67.0   \n",
       "2   3              218353         505942  2015-09-21 00:00:00            62.0   \n",
       "3   4              218353         505942  2015-03-20 00:00:00            61.0   \n",
       "4   5              218353         505942  2007-02-22 00:00:00            61.0   \n",
       "\n",
       "   potential preferred_foot attacking_work_rate defensive_work_rate  crossing  \\\n",
       "0       71.0          right              medium              medium      49.0   \n",
       "1       71.0          right              medium              medium      49.0   \n",
       "2       66.0          right              medium              medium      49.0   \n",
       "3       65.0          right              medium              medium      48.0   \n",
       "4       65.0          right              medium              medium      48.0   \n",
       "\n",
       "      ...       vision  penalties  marking  standing_tackle  sliding_tackle  \\\n",
       "0     ...         54.0       48.0     65.0             69.0            69.0   \n",
       "1     ...         54.0       48.0     65.0             69.0            69.0   \n",
       "2     ...         54.0       48.0     65.0             66.0            69.0   \n",
       "3     ...         53.0       47.0     62.0             63.0            66.0   \n",
       "4     ...         53.0       47.0     62.0             63.0            66.0   \n",
       "\n",
       "   gk_diving  gk_handling  gk_kicking  gk_positioning  gk_reflexes  \n",
       "0        6.0         11.0        10.0             8.0          8.0  \n",
       "1        6.0         11.0        10.0             8.0          8.0  \n",
       "2        6.0         11.0        10.0             8.0          8.0  \n",
       "3        5.0         10.0         9.0             7.0          7.0  \n",
       "4        5.0         10.0         9.0             7.0          7.0  \n",
       "\n",
       "[5 rows x 42 columns]"
      ]
     },
     "execution_count": 12,
     "metadata": {},
     "output_type": "execute_result"
    }
   ],
   "source": [
    "player_attrib.head()"
   ]
  },
  {
   "cell_type": "code",
   "execution_count": 13,
   "metadata": {
    "scrolled": false
   },
   "outputs": [
    {
     "name": "stdout",
     "output_type": "stream",
     "text": [
      "<class 'pandas.core.frame.DataFrame'>\n",
      "RangeIndex: 183978 entries, 0 to 183977\n",
      "Data columns (total 42 columns):\n",
      "id                     183978 non-null int64\n",
      "player_fifa_api_id     183978 non-null int64\n",
      "player_api_id          183978 non-null int64\n",
      "date                   183978 non-null object\n",
      "overall_rating         183142 non-null float64\n",
      "potential              183142 non-null float64\n",
      "preferred_foot         183142 non-null object\n",
      "attacking_work_rate    180748 non-null object\n",
      "defensive_work_rate    183142 non-null object\n",
      "crossing               183142 non-null float64\n",
      "finishing              183142 non-null float64\n",
      "heading_accuracy       183142 non-null float64\n",
      "short_passing          183142 non-null float64\n",
      "volleys                181265 non-null float64\n",
      "dribbling              183142 non-null float64\n",
      "curve                  181265 non-null float64\n",
      "free_kick_accuracy     183142 non-null float64\n",
      "long_passing           183142 non-null float64\n",
      "ball_control           183142 non-null float64\n",
      "acceleration           183142 non-null float64\n",
      "sprint_speed           183142 non-null float64\n",
      "agility                181265 non-null float64\n",
      "reactions              183142 non-null float64\n",
      "balance                181265 non-null float64\n",
      "shot_power             183142 non-null float64\n",
      "jumping                181265 non-null float64\n",
      "stamina                183142 non-null float64\n",
      "strength               183142 non-null float64\n",
      "long_shots             183142 non-null float64\n",
      "aggression             183142 non-null float64\n",
      "interceptions          183142 non-null float64\n",
      "positioning            183142 non-null float64\n",
      "vision                 181265 non-null float64\n",
      "penalties              183142 non-null float64\n",
      "marking                183142 non-null float64\n",
      "standing_tackle        183142 non-null float64\n",
      "sliding_tackle         181265 non-null float64\n",
      "gk_diving              183142 non-null float64\n",
      "gk_handling            183142 non-null float64\n",
      "gk_kicking             183142 non-null float64\n",
      "gk_positioning         183142 non-null float64\n",
      "gk_reflexes            183142 non-null float64\n",
      "dtypes: float64(35), int64(3), object(4)\n",
      "memory usage: 59.0+ MB\n",
      "None\n"
     ]
    }
   ],
   "source": [
    "print(player_attrib.info())"
   ]
  },
  {
   "cell_type": "markdown",
   "metadata": {},
   "source": [
    "___There are null values in the dataset which need to be removed or imputed___"
   ]
  },
  {
   "cell_type": "code",
   "execution_count": 14,
   "metadata": {},
   "outputs": [
    {
     "data": {
      "text/plain": [
       "float64    35\n",
       "int64       3\n",
       "object      4\n",
       "dtype: int64"
      ]
     },
     "execution_count": 14,
     "metadata": {},
     "output_type": "execute_result"
    }
   ],
   "source": [
    "player_attrib.get_dtype_counts()"
   ]
  },
  {
   "cell_type": "markdown",
   "metadata": {},
   "source": [
    "# Data Cleaning"
   ]
  },
  {
   "cell_type": "markdown",
   "metadata": {},
   "source": [
    "__Find rows containing null values or zeros(that don't belong in the dataset) and then either impute or remove them__"
   ]
  },
  {
   "cell_type": "markdown",
   "metadata": {},
   "source": [
    "___Checking for columns containing null values___"
   ]
  },
  {
   "cell_type": "code",
   "execution_count": 15,
   "metadata": {
    "scrolled": false
   },
   "outputs": [
    {
     "data": {
      "text/plain": [
       "id                     False\n",
       "player_fifa_api_id     False\n",
       "player_api_id          False\n",
       "date                   False\n",
       "overall_rating          True\n",
       "potential               True\n",
       "preferred_foot          True\n",
       "attacking_work_rate     True\n",
       "defensive_work_rate     True\n",
       "crossing                True\n",
       "finishing               True\n",
       "heading_accuracy        True\n",
       "short_passing           True\n",
       "volleys                 True\n",
       "dribbling               True\n",
       "curve                   True\n",
       "free_kick_accuracy      True\n",
       "long_passing            True\n",
       "ball_control            True\n",
       "acceleration            True\n",
       "sprint_speed            True\n",
       "agility                 True\n",
       "reactions               True\n",
       "balance                 True\n",
       "shot_power              True\n",
       "jumping                 True\n",
       "stamina                 True\n",
       "strength                True\n",
       "long_shots              True\n",
       "aggression              True\n",
       "interceptions           True\n",
       "positioning             True\n",
       "vision                  True\n",
       "penalties               True\n",
       "marking                 True\n",
       "standing_tackle         True\n",
       "sliding_tackle          True\n",
       "gk_diving               True\n",
       "gk_handling             True\n",
       "gk_kicking              True\n",
       "gk_positioning          True\n",
       "gk_reflexes             True\n",
       "dtype: bool"
      ]
     },
     "execution_count": 15,
     "metadata": {},
     "output_type": "execute_result"
    }
   ],
   "source": [
    "player_attrib.isna().any() # To look for null element in atleast one row in the dataframe"
   ]
  },
  {
   "cell_type": "markdown",
   "metadata": {},
   "source": [
    "***All columns in the dataframe have null values except the id, player_fifa_api_id, player_api_id, date columns***"
   ]
  },
  {
   "cell_type": "code",
   "execution_count": 17,
   "metadata": {},
   "outputs": [
    {
     "data": {
      "text/html": [
       "<div>\n",
       "<style scoped>\n",
       "    .dataframe tbody tr th:only-of-type {\n",
       "        vertical-align: middle;\n",
       "    }\n",
       "\n",
       "    .dataframe tbody tr th {\n",
       "        vertical-align: top;\n",
       "    }\n",
       "\n",
       "    .dataframe thead th {\n",
       "        text-align: right;\n",
       "    }\n",
       "</style>\n",
       "<table border=\"1\" class=\"dataframe\">\n",
       "  <thead>\n",
       "    <tr style=\"text-align: right;\">\n",
       "      <th></th>\n",
       "      <th>0</th>\n",
       "    </tr>\n",
       "  </thead>\n",
       "  <tbody>\n",
       "    <tr>\n",
       "      <th>id</th>\n",
       "      <td>0</td>\n",
       "    </tr>\n",
       "    <tr>\n",
       "      <th>player_fifa_api_id</th>\n",
       "      <td>0</td>\n",
       "    </tr>\n",
       "    <tr>\n",
       "      <th>player_api_id</th>\n",
       "      <td>0</td>\n",
       "    </tr>\n",
       "    <tr>\n",
       "      <th>date</th>\n",
       "      <td>0</td>\n",
       "    </tr>\n",
       "    <tr>\n",
       "      <th>overall_rating</th>\n",
       "      <td>836</td>\n",
       "    </tr>\n",
       "    <tr>\n",
       "      <th>potential</th>\n",
       "      <td>836</td>\n",
       "    </tr>\n",
       "    <tr>\n",
       "      <th>preferred_foot</th>\n",
       "      <td>836</td>\n",
       "    </tr>\n",
       "    <tr>\n",
       "      <th>attacking_work_rate</th>\n",
       "      <td>3230</td>\n",
       "    </tr>\n",
       "    <tr>\n",
       "      <th>defensive_work_rate</th>\n",
       "      <td>836</td>\n",
       "    </tr>\n",
       "    <tr>\n",
       "      <th>crossing</th>\n",
       "      <td>836</td>\n",
       "    </tr>\n",
       "    <tr>\n",
       "      <th>finishing</th>\n",
       "      <td>836</td>\n",
       "    </tr>\n",
       "    <tr>\n",
       "      <th>heading_accuracy</th>\n",
       "      <td>836</td>\n",
       "    </tr>\n",
       "    <tr>\n",
       "      <th>short_passing</th>\n",
       "      <td>836</td>\n",
       "    </tr>\n",
       "    <tr>\n",
       "      <th>volleys</th>\n",
       "      <td>2713</td>\n",
       "    </tr>\n",
       "    <tr>\n",
       "      <th>dribbling</th>\n",
       "      <td>836</td>\n",
       "    </tr>\n",
       "    <tr>\n",
       "      <th>curve</th>\n",
       "      <td>2713</td>\n",
       "    </tr>\n",
       "    <tr>\n",
       "      <th>free_kick_accuracy</th>\n",
       "      <td>836</td>\n",
       "    </tr>\n",
       "    <tr>\n",
       "      <th>long_passing</th>\n",
       "      <td>836</td>\n",
       "    </tr>\n",
       "    <tr>\n",
       "      <th>ball_control</th>\n",
       "      <td>836</td>\n",
       "    </tr>\n",
       "    <tr>\n",
       "      <th>acceleration</th>\n",
       "      <td>836</td>\n",
       "    </tr>\n",
       "    <tr>\n",
       "      <th>sprint_speed</th>\n",
       "      <td>836</td>\n",
       "    </tr>\n",
       "    <tr>\n",
       "      <th>agility</th>\n",
       "      <td>2713</td>\n",
       "    </tr>\n",
       "    <tr>\n",
       "      <th>reactions</th>\n",
       "      <td>836</td>\n",
       "    </tr>\n",
       "    <tr>\n",
       "      <th>balance</th>\n",
       "      <td>2713</td>\n",
       "    </tr>\n",
       "    <tr>\n",
       "      <th>shot_power</th>\n",
       "      <td>836</td>\n",
       "    </tr>\n",
       "    <tr>\n",
       "      <th>jumping</th>\n",
       "      <td>2713</td>\n",
       "    </tr>\n",
       "    <tr>\n",
       "      <th>stamina</th>\n",
       "      <td>836</td>\n",
       "    </tr>\n",
       "    <tr>\n",
       "      <th>strength</th>\n",
       "      <td>836</td>\n",
       "    </tr>\n",
       "    <tr>\n",
       "      <th>long_shots</th>\n",
       "      <td>836</td>\n",
       "    </tr>\n",
       "    <tr>\n",
       "      <th>aggression</th>\n",
       "      <td>836</td>\n",
       "    </tr>\n",
       "    <tr>\n",
       "      <th>interceptions</th>\n",
       "      <td>836</td>\n",
       "    </tr>\n",
       "    <tr>\n",
       "      <th>positioning</th>\n",
       "      <td>836</td>\n",
       "    </tr>\n",
       "    <tr>\n",
       "      <th>vision</th>\n",
       "      <td>2713</td>\n",
       "    </tr>\n",
       "    <tr>\n",
       "      <th>penalties</th>\n",
       "      <td>836</td>\n",
       "    </tr>\n",
       "    <tr>\n",
       "      <th>marking</th>\n",
       "      <td>836</td>\n",
       "    </tr>\n",
       "    <tr>\n",
       "      <th>standing_tackle</th>\n",
       "      <td>836</td>\n",
       "    </tr>\n",
       "    <tr>\n",
       "      <th>sliding_tackle</th>\n",
       "      <td>2713</td>\n",
       "    </tr>\n",
       "    <tr>\n",
       "      <th>gk_diving</th>\n",
       "      <td>836</td>\n",
       "    </tr>\n",
       "    <tr>\n",
       "      <th>gk_handling</th>\n",
       "      <td>836</td>\n",
       "    </tr>\n",
       "    <tr>\n",
       "      <th>gk_kicking</th>\n",
       "      <td>836</td>\n",
       "    </tr>\n",
       "    <tr>\n",
       "      <th>gk_positioning</th>\n",
       "      <td>836</td>\n",
       "    </tr>\n",
       "    <tr>\n",
       "      <th>gk_reflexes</th>\n",
       "      <td>836</td>\n",
       "    </tr>\n",
       "  </tbody>\n",
       "</table>\n",
       "</div>"
      ],
      "text/plain": [
       "                        0\n",
       "id                      0\n",
       "player_fifa_api_id      0\n",
       "player_api_id           0\n",
       "date                    0\n",
       "overall_rating        836\n",
       "potential             836\n",
       "preferred_foot        836\n",
       "attacking_work_rate  3230\n",
       "defensive_work_rate   836\n",
       "crossing              836\n",
       "finishing             836\n",
       "heading_accuracy      836\n",
       "short_passing         836\n",
       "volleys              2713\n",
       "dribbling             836\n",
       "curve                2713\n",
       "free_kick_accuracy    836\n",
       "long_passing          836\n",
       "ball_control          836\n",
       "acceleration          836\n",
       "sprint_speed          836\n",
       "agility              2713\n",
       "reactions             836\n",
       "balance              2713\n",
       "shot_power            836\n",
       "jumping              2713\n",
       "stamina               836\n",
       "strength              836\n",
       "long_shots            836\n",
       "aggression            836\n",
       "interceptions         836\n",
       "positioning           836\n",
       "vision               2713\n",
       "penalties             836\n",
       "marking               836\n",
       "standing_tackle       836\n",
       "sliding_tackle       2713\n",
       "gk_diving             836\n",
       "gk_handling           836\n",
       "gk_kicking            836\n",
       "gk_positioning        836\n",
       "gk_reflexes           836"
      ]
     },
     "execution_count": 17,
     "metadata": {},
     "output_type": "execute_result"
    }
   ],
   "source": [
    "#Performing a check to understand the number of null values in each column  \n",
    "null_info_df = pd.DataFrame(player_attrib.isna().sum())  # Identifying the number of nulls in each column\n",
    "null_info_df"
   ]
  },
  {
   "cell_type": "markdown",
   "metadata": {},
   "source": []
  },
  {
   "cell_type": "markdown",
   "metadata": {},
   "source": []
  },
  {
   "cell_type": "code",
   "execution_count": 18,
   "metadata": {},
   "outputs": [
    {
     "data": {
      "text/html": [
       "<div>\n",
       "<style scoped>\n",
       "    .dataframe tbody tr th:only-of-type {\n",
       "        vertical-align: middle;\n",
       "    }\n",
       "\n",
       "    .dataframe tbody tr th {\n",
       "        vertical-align: top;\n",
       "    }\n",
       "\n",
       "    .dataframe thead th {\n",
       "        text-align: right;\n",
       "    }\n",
       "</style>\n",
       "<table border=\"1\" class=\"dataframe\">\n",
       "  <thead>\n",
       "    <tr style=\"text-align: right;\">\n",
       "      <th></th>\n",
       "      <th>0</th>\n",
       "      <th>null_percentage</th>\n",
       "    </tr>\n",
       "  </thead>\n",
       "  <tbody>\n",
       "    <tr>\n",
       "      <th>id</th>\n",
       "      <td>0</td>\n",
       "      <td>0.000000</td>\n",
       "    </tr>\n",
       "    <tr>\n",
       "      <th>player_fifa_api_id</th>\n",
       "      <td>0</td>\n",
       "      <td>0.000000</td>\n",
       "    </tr>\n",
       "    <tr>\n",
       "      <th>player_api_id</th>\n",
       "      <td>0</td>\n",
       "      <td>0.000000</td>\n",
       "    </tr>\n",
       "    <tr>\n",
       "      <th>date</th>\n",
       "      <td>0</td>\n",
       "      <td>0.000000</td>\n",
       "    </tr>\n",
       "    <tr>\n",
       "      <th>overall_rating</th>\n",
       "      <td>836</td>\n",
       "      <td>0.454402</td>\n",
       "    </tr>\n",
       "    <tr>\n",
       "      <th>potential</th>\n",
       "      <td>836</td>\n",
       "      <td>0.454402</td>\n",
       "    </tr>\n",
       "    <tr>\n",
       "      <th>preferred_foot</th>\n",
       "      <td>836</td>\n",
       "      <td>0.454402</td>\n",
       "    </tr>\n",
       "    <tr>\n",
       "      <th>attacking_work_rate</th>\n",
       "      <td>3230</td>\n",
       "      <td>1.755645</td>\n",
       "    </tr>\n",
       "    <tr>\n",
       "      <th>defensive_work_rate</th>\n",
       "      <td>836</td>\n",
       "      <td>0.454402</td>\n",
       "    </tr>\n",
       "    <tr>\n",
       "      <th>crossing</th>\n",
       "      <td>836</td>\n",
       "      <td>0.454402</td>\n",
       "    </tr>\n",
       "    <tr>\n",
       "      <th>finishing</th>\n",
       "      <td>836</td>\n",
       "      <td>0.454402</td>\n",
       "    </tr>\n",
       "    <tr>\n",
       "      <th>heading_accuracy</th>\n",
       "      <td>836</td>\n",
       "      <td>0.454402</td>\n",
       "    </tr>\n",
       "    <tr>\n",
       "      <th>short_passing</th>\n",
       "      <td>836</td>\n",
       "      <td>0.454402</td>\n",
       "    </tr>\n",
       "    <tr>\n",
       "      <th>volleys</th>\n",
       "      <td>2713</td>\n",
       "      <td>1.474633</td>\n",
       "    </tr>\n",
       "    <tr>\n",
       "      <th>dribbling</th>\n",
       "      <td>836</td>\n",
       "      <td>0.454402</td>\n",
       "    </tr>\n",
       "    <tr>\n",
       "      <th>curve</th>\n",
       "      <td>2713</td>\n",
       "      <td>1.474633</td>\n",
       "    </tr>\n",
       "    <tr>\n",
       "      <th>free_kick_accuracy</th>\n",
       "      <td>836</td>\n",
       "      <td>0.454402</td>\n",
       "    </tr>\n",
       "    <tr>\n",
       "      <th>long_passing</th>\n",
       "      <td>836</td>\n",
       "      <td>0.454402</td>\n",
       "    </tr>\n",
       "    <tr>\n",
       "      <th>ball_control</th>\n",
       "      <td>836</td>\n",
       "      <td>0.454402</td>\n",
       "    </tr>\n",
       "    <tr>\n",
       "      <th>acceleration</th>\n",
       "      <td>836</td>\n",
       "      <td>0.454402</td>\n",
       "    </tr>\n",
       "    <tr>\n",
       "      <th>sprint_speed</th>\n",
       "      <td>836</td>\n",
       "      <td>0.454402</td>\n",
       "    </tr>\n",
       "    <tr>\n",
       "      <th>agility</th>\n",
       "      <td>2713</td>\n",
       "      <td>1.474633</td>\n",
       "    </tr>\n",
       "    <tr>\n",
       "      <th>reactions</th>\n",
       "      <td>836</td>\n",
       "      <td>0.454402</td>\n",
       "    </tr>\n",
       "    <tr>\n",
       "      <th>balance</th>\n",
       "      <td>2713</td>\n",
       "      <td>1.474633</td>\n",
       "    </tr>\n",
       "    <tr>\n",
       "      <th>shot_power</th>\n",
       "      <td>836</td>\n",
       "      <td>0.454402</td>\n",
       "    </tr>\n",
       "    <tr>\n",
       "      <th>jumping</th>\n",
       "      <td>2713</td>\n",
       "      <td>1.474633</td>\n",
       "    </tr>\n",
       "    <tr>\n",
       "      <th>stamina</th>\n",
       "      <td>836</td>\n",
       "      <td>0.454402</td>\n",
       "    </tr>\n",
       "    <tr>\n",
       "      <th>strength</th>\n",
       "      <td>836</td>\n",
       "      <td>0.454402</td>\n",
       "    </tr>\n",
       "    <tr>\n",
       "      <th>long_shots</th>\n",
       "      <td>836</td>\n",
       "      <td>0.454402</td>\n",
       "    </tr>\n",
       "    <tr>\n",
       "      <th>aggression</th>\n",
       "      <td>836</td>\n",
       "      <td>0.454402</td>\n",
       "    </tr>\n",
       "    <tr>\n",
       "      <th>interceptions</th>\n",
       "      <td>836</td>\n",
       "      <td>0.454402</td>\n",
       "    </tr>\n",
       "    <tr>\n",
       "      <th>positioning</th>\n",
       "      <td>836</td>\n",
       "      <td>0.454402</td>\n",
       "    </tr>\n",
       "    <tr>\n",
       "      <th>vision</th>\n",
       "      <td>2713</td>\n",
       "      <td>1.474633</td>\n",
       "    </tr>\n",
       "    <tr>\n",
       "      <th>penalties</th>\n",
       "      <td>836</td>\n",
       "      <td>0.454402</td>\n",
       "    </tr>\n",
       "    <tr>\n",
       "      <th>marking</th>\n",
       "      <td>836</td>\n",
       "      <td>0.454402</td>\n",
       "    </tr>\n",
       "    <tr>\n",
       "      <th>standing_tackle</th>\n",
       "      <td>836</td>\n",
       "      <td>0.454402</td>\n",
       "    </tr>\n",
       "    <tr>\n",
       "      <th>sliding_tackle</th>\n",
       "      <td>2713</td>\n",
       "      <td>1.474633</td>\n",
       "    </tr>\n",
       "    <tr>\n",
       "      <th>gk_diving</th>\n",
       "      <td>836</td>\n",
       "      <td>0.454402</td>\n",
       "    </tr>\n",
       "    <tr>\n",
       "      <th>gk_handling</th>\n",
       "      <td>836</td>\n",
       "      <td>0.454402</td>\n",
       "    </tr>\n",
       "    <tr>\n",
       "      <th>gk_kicking</th>\n",
       "      <td>836</td>\n",
       "      <td>0.454402</td>\n",
       "    </tr>\n",
       "    <tr>\n",
       "      <th>gk_positioning</th>\n",
       "      <td>836</td>\n",
       "      <td>0.454402</td>\n",
       "    </tr>\n",
       "    <tr>\n",
       "      <th>gk_reflexes</th>\n",
       "      <td>836</td>\n",
       "      <td>0.454402</td>\n",
       "    </tr>\n",
       "  </tbody>\n",
       "</table>\n",
       "</div>"
      ],
      "text/plain": [
       "                        0  null_percentage\n",
       "id                      0         0.000000\n",
       "player_fifa_api_id      0         0.000000\n",
       "player_api_id           0         0.000000\n",
       "date                    0         0.000000\n",
       "overall_rating        836         0.454402\n",
       "potential             836         0.454402\n",
       "preferred_foot        836         0.454402\n",
       "attacking_work_rate  3230         1.755645\n",
       "defensive_work_rate   836         0.454402\n",
       "crossing              836         0.454402\n",
       "finishing             836         0.454402\n",
       "heading_accuracy      836         0.454402\n",
       "short_passing         836         0.454402\n",
       "volleys              2713         1.474633\n",
       "dribbling             836         0.454402\n",
       "curve                2713         1.474633\n",
       "free_kick_accuracy    836         0.454402\n",
       "long_passing          836         0.454402\n",
       "ball_control          836         0.454402\n",
       "acceleration          836         0.454402\n",
       "sprint_speed          836         0.454402\n",
       "agility              2713         1.474633\n",
       "reactions             836         0.454402\n",
       "balance              2713         1.474633\n",
       "shot_power            836         0.454402\n",
       "jumping              2713         1.474633\n",
       "stamina               836         0.454402\n",
       "strength              836         0.454402\n",
       "long_shots            836         0.454402\n",
       "aggression            836         0.454402\n",
       "interceptions         836         0.454402\n",
       "positioning           836         0.454402\n",
       "vision               2713         1.474633\n",
       "penalties             836         0.454402\n",
       "marking               836         0.454402\n",
       "standing_tackle       836         0.454402\n",
       "sliding_tackle       2713         1.474633\n",
       "gk_diving             836         0.454402\n",
       "gk_handling           836         0.454402\n",
       "gk_kicking            836         0.454402\n",
       "gk_positioning        836         0.454402\n",
       "gk_reflexes           836         0.454402"
      ]
     },
     "execution_count": 18,
     "metadata": {},
     "output_type": "execute_result"
    }
   ],
   "source": [
    "# Performing a check to understand the percentage of null values in each column  \n",
    "null_info_df[\"null_percentage\"] = (player_attrib.isna().sum()/player_attrib.shape[0])*100\n",
    "null_info_df"
   ]
  },
  {
   "cell_type": "code",
   "execution_count": null,
   "metadata": {},
   "outputs": [],
   "source": [
    "** there are approx 1.5% null values i.e. is very less , so droping those values"
   ]
  },
  {
   "cell_type": "code",
   "execution_count": 19,
   "metadata": {},
   "outputs": [],
   "source": [
    "# Dropping rows containing null values in the dataframe\n",
    "player_attrib.dropna(axis = 0, inplace = True)"
   ]
  },
  {
   "cell_type": "code",
   "execution_count": 20,
   "metadata": {},
   "outputs": [
    {
     "data": {
      "text/plain": [
       "(180354, 42)"
      ]
     },
     "execution_count": 20,
     "metadata": {},
     "output_type": "execute_result"
    }
   ],
   "source": [
    "player_attrib.shape"
   ]
  },
  {
   "cell_type": "markdown",
   "metadata": {},
   "source": [
    "_3624 rows containing one or more null values removed_"
   ]
  },
  {
   "cell_type": "code",
   "execution_count": 21,
   "metadata": {},
   "outputs": [
    {
     "data": {
      "text/plain": [
       "id                     0\n",
       "player_fifa_api_id     0\n",
       "player_api_id          0\n",
       "date                   0\n",
       "overall_rating         0\n",
       "potential              0\n",
       "preferred_foot         0\n",
       "attacking_work_rate    0\n",
       "defensive_work_rate    0\n",
       "crossing               0\n",
       "finishing              0\n",
       "heading_accuracy       0\n",
       "short_passing          0\n",
       "volleys                0\n",
       "dribbling              0\n",
       "curve                  0\n",
       "free_kick_accuracy     0\n",
       "long_passing           0\n",
       "ball_control           0\n",
       "acceleration           0\n",
       "sprint_speed           0\n",
       "agility                0\n",
       "reactions              0\n",
       "balance                0\n",
       "shot_power             0\n",
       "jumping                0\n",
       "stamina                0\n",
       "strength               0\n",
       "long_shots             0\n",
       "aggression             0\n",
       "interceptions          0\n",
       "positioning            0\n",
       "vision                 0\n",
       "penalties              0\n",
       "marking                0\n",
       "standing_tackle        0\n",
       "sliding_tackle         0\n",
       "gk_diving              0\n",
       "gk_handling            0\n",
       "gk_kicking             0\n",
       "gk_positioning         0\n",
       "gk_reflexes            0\n",
       "dtype: int64"
      ]
     },
     "execution_count": 21,
     "metadata": {},
     "output_type": "execute_result"
    }
   ],
   "source": [
    "# Cross checking if the rows containing null values were removed\n",
    "player_attrib.isna().sum() "
   ]
  },
  {
   "cell_type": "markdown",
   "metadata": {},
   "source": [
    "___Checking if there are any row values = zero that need our consideration so that we can decide to study those rows___"
   ]
  },
  {
   "cell_type": "code",
   "execution_count": 22,
   "metadata": {
    "scrolled": false
   },
   "outputs": [
    {
     "data": {
      "text/plain": [
       "(0, 42)"
      ]
     },
     "execution_count": 22,
     "metadata": {},
     "output_type": "execute_result"
    }
   ],
   "source": [
    "player_attrib.loc[(player_attrib==0).all(axis=1)].shape "
   ]
  },
  {
   "cell_type": "markdown",
   "metadata": {},
   "source": [
    "___No zeroes in the dataframe to consider___"
   ]
  },
  {
   "cell_type": "code",
   "execution_count": 23,
   "metadata": {},
   "outputs": [
    {
     "data": {
      "text/html": [
       "<div>\n",
       "<style scoped>\n",
       "    .dataframe tbody tr th:only-of-type {\n",
       "        vertical-align: middle;\n",
       "    }\n",
       "\n",
       "    .dataframe tbody tr th {\n",
       "        vertical-align: top;\n",
       "    }\n",
       "\n",
       "    .dataframe thead th {\n",
       "        text-align: right;\n",
       "    }\n",
       "</style>\n",
       "<table border=\"1\" class=\"dataframe\">\n",
       "  <thead>\n",
       "    <tr style=\"text-align: right;\">\n",
       "      <th></th>\n",
       "      <th>id</th>\n",
       "      <th>player_fifa_api_id</th>\n",
       "      <th>player_api_id</th>\n",
       "      <th>date</th>\n",
       "      <th>overall_rating</th>\n",
       "      <th>potential</th>\n",
       "      <th>preferred_foot</th>\n",
       "      <th>attacking_work_rate</th>\n",
       "      <th>defensive_work_rate</th>\n",
       "      <th>crossing</th>\n",
       "      <th>...</th>\n",
       "      <th>vision</th>\n",
       "      <th>penalties</th>\n",
       "      <th>marking</th>\n",
       "      <th>standing_tackle</th>\n",
       "      <th>sliding_tackle</th>\n",
       "      <th>gk_diving</th>\n",
       "      <th>gk_handling</th>\n",
       "      <th>gk_kicking</th>\n",
       "      <th>gk_positioning</th>\n",
       "      <th>gk_reflexes</th>\n",
       "    </tr>\n",
       "  </thead>\n",
       "  <tbody>\n",
       "    <tr>\n",
       "      <th>0</th>\n",
       "      <td>1</td>\n",
       "      <td>218353</td>\n",
       "      <td>505942</td>\n",
       "      <td>2016-02-18 00:00:00</td>\n",
       "      <td>67.0</td>\n",
       "      <td>71.0</td>\n",
       "      <td>right</td>\n",
       "      <td>medium</td>\n",
       "      <td>medium</td>\n",
       "      <td>49.0</td>\n",
       "      <td>...</td>\n",
       "      <td>54.0</td>\n",
       "      <td>48.0</td>\n",
       "      <td>65.0</td>\n",
       "      <td>69.0</td>\n",
       "      <td>69.0</td>\n",
       "      <td>6.0</td>\n",
       "      <td>11.0</td>\n",
       "      <td>10.0</td>\n",
       "      <td>8.0</td>\n",
       "      <td>8.0</td>\n",
       "    </tr>\n",
       "    <tr>\n",
       "      <th>1</th>\n",
       "      <td>2</td>\n",
       "      <td>218353</td>\n",
       "      <td>505942</td>\n",
       "      <td>2015-11-19 00:00:00</td>\n",
       "      <td>67.0</td>\n",
       "      <td>71.0</td>\n",
       "      <td>right</td>\n",
       "      <td>medium</td>\n",
       "      <td>medium</td>\n",
       "      <td>49.0</td>\n",
       "      <td>...</td>\n",
       "      <td>54.0</td>\n",
       "      <td>48.0</td>\n",
       "      <td>65.0</td>\n",
       "      <td>69.0</td>\n",
       "      <td>69.0</td>\n",
       "      <td>6.0</td>\n",
       "      <td>11.0</td>\n",
       "      <td>10.0</td>\n",
       "      <td>8.0</td>\n",
       "      <td>8.0</td>\n",
       "    </tr>\n",
       "    <tr>\n",
       "      <th>2</th>\n",
       "      <td>3</td>\n",
       "      <td>218353</td>\n",
       "      <td>505942</td>\n",
       "      <td>2015-09-21 00:00:00</td>\n",
       "      <td>62.0</td>\n",
       "      <td>66.0</td>\n",
       "      <td>right</td>\n",
       "      <td>medium</td>\n",
       "      <td>medium</td>\n",
       "      <td>49.0</td>\n",
       "      <td>...</td>\n",
       "      <td>54.0</td>\n",
       "      <td>48.0</td>\n",
       "      <td>65.0</td>\n",
       "      <td>66.0</td>\n",
       "      <td>69.0</td>\n",
       "      <td>6.0</td>\n",
       "      <td>11.0</td>\n",
       "      <td>10.0</td>\n",
       "      <td>8.0</td>\n",
       "      <td>8.0</td>\n",
       "    </tr>\n",
       "    <tr>\n",
       "      <th>3</th>\n",
       "      <td>4</td>\n",
       "      <td>218353</td>\n",
       "      <td>505942</td>\n",
       "      <td>2015-03-20 00:00:00</td>\n",
       "      <td>61.0</td>\n",
       "      <td>65.0</td>\n",
       "      <td>right</td>\n",
       "      <td>medium</td>\n",
       "      <td>medium</td>\n",
       "      <td>48.0</td>\n",
       "      <td>...</td>\n",
       "      <td>53.0</td>\n",
       "      <td>47.0</td>\n",
       "      <td>62.0</td>\n",
       "      <td>63.0</td>\n",
       "      <td>66.0</td>\n",
       "      <td>5.0</td>\n",
       "      <td>10.0</td>\n",
       "      <td>9.0</td>\n",
       "      <td>7.0</td>\n",
       "      <td>7.0</td>\n",
       "    </tr>\n",
       "    <tr>\n",
       "      <th>4</th>\n",
       "      <td>5</td>\n",
       "      <td>218353</td>\n",
       "      <td>505942</td>\n",
       "      <td>2007-02-22 00:00:00</td>\n",
       "      <td>61.0</td>\n",
       "      <td>65.0</td>\n",
       "      <td>right</td>\n",
       "      <td>medium</td>\n",
       "      <td>medium</td>\n",
       "      <td>48.0</td>\n",
       "      <td>...</td>\n",
       "      <td>53.0</td>\n",
       "      <td>47.0</td>\n",
       "      <td>62.0</td>\n",
       "      <td>63.0</td>\n",
       "      <td>66.0</td>\n",
       "      <td>5.0</td>\n",
       "      <td>10.0</td>\n",
       "      <td>9.0</td>\n",
       "      <td>7.0</td>\n",
       "      <td>7.0</td>\n",
       "    </tr>\n",
       "  </tbody>\n",
       "</table>\n",
       "<p>5 rows × 42 columns</p>\n",
       "</div>"
      ],
      "text/plain": [
       "   id  player_fifa_api_id  player_api_id                 date  overall_rating  \\\n",
       "0   1              218353         505942  2016-02-18 00:00:00            67.0   \n",
       "1   2              218353         505942  2015-11-19 00:00:00            67.0   \n",
       "2   3              218353         505942  2015-09-21 00:00:00            62.0   \n",
       "3   4              218353         505942  2015-03-20 00:00:00            61.0   \n",
       "4   5              218353         505942  2007-02-22 00:00:00            61.0   \n",
       "\n",
       "   potential preferred_foot attacking_work_rate defensive_work_rate  crossing  \\\n",
       "0       71.0          right              medium              medium      49.0   \n",
       "1       71.0          right              medium              medium      49.0   \n",
       "2       66.0          right              medium              medium      49.0   \n",
       "3       65.0          right              medium              medium      48.0   \n",
       "4       65.0          right              medium              medium      48.0   \n",
       "\n",
       "      ...       vision  penalties  marking  standing_tackle  sliding_tackle  \\\n",
       "0     ...         54.0       48.0     65.0             69.0            69.0   \n",
       "1     ...         54.0       48.0     65.0             69.0            69.0   \n",
       "2     ...         54.0       48.0     65.0             66.0            69.0   \n",
       "3     ...         53.0       47.0     62.0             63.0            66.0   \n",
       "4     ...         53.0       47.0     62.0             63.0            66.0   \n",
       "\n",
       "   gk_diving  gk_handling  gk_kicking  gk_positioning  gk_reflexes  \n",
       "0        6.0         11.0        10.0             8.0          8.0  \n",
       "1        6.0         11.0        10.0             8.0          8.0  \n",
       "2        6.0         11.0        10.0             8.0          8.0  \n",
       "3        5.0         10.0         9.0             7.0          7.0  \n",
       "4        5.0         10.0         9.0             7.0          7.0  \n",
       "\n",
       "[5 rows x 42 columns]"
      ]
     },
     "execution_count": 23,
     "metadata": {},
     "output_type": "execute_result"
    }
   ],
   "source": [
    "player_attrib.head()"
   ]
  },
  {
   "cell_type": "code",
   "execution_count": 24,
   "metadata": {},
   "outputs": [],
   "source": [
    "# Moving overall_rating column to the end of the dataframe\n",
    "cols = list(player_attrib.columns.values) \n",
    "cols.pop(cols.index('overall_rating'))  \n",
    "player_attrib = player_attrib[cols+['overall_rating']]  \n"
   ]
  },
  {
   "cell_type": "code",
   "execution_count": 25,
   "metadata": {},
   "outputs": [
    {
     "data": {
      "text/plain": [
       "array(['id', 'player_fifa_api_id', 'player_api_id', 'date', 'potential',\n",
       "       'preferred_foot', 'attacking_work_rate', 'defensive_work_rate',\n",
       "       'crossing', 'finishing', 'heading_accuracy', 'short_passing',\n",
       "       'volleys', 'dribbling', 'curve', 'free_kick_accuracy',\n",
       "       'long_passing', 'ball_control', 'acceleration', 'sprint_speed',\n",
       "       'agility', 'reactions', 'balance', 'shot_power', 'jumping',\n",
       "       'stamina', 'strength', 'long_shots', 'aggression', 'interceptions',\n",
       "       'positioning', 'vision', 'penalties', 'marking', 'standing_tackle',\n",
       "       'sliding_tackle', 'gk_diving', 'gk_handling', 'gk_kicking',\n",
       "       'gk_positioning', 'gk_reflexes', 'overall_rating'], dtype=object)"
      ]
     },
     "execution_count": 25,
     "metadata": {},
     "output_type": "execute_result"
    }
   ],
   "source": [
    "player_attrib.columns.values"
   ]
  },
  {
   "cell_type": "markdown",
   "metadata": {},
   "source": [
    "## Cleaning Categorical Columns"
   ]
  },
  {
   "cell_type": "code",
   "execution_count": 26,
   "metadata": {},
   "outputs": [
    {
     "data": {
      "text/plain": [
       "array(['date', 'preferred_foot', 'attacking_work_rate',\n",
       "       'defensive_work_rate'], dtype=object)"
      ]
     },
     "execution_count": 26,
     "metadata": {},
     "output_type": "execute_result"
    }
   ],
   "source": [
    "# Getting a  list of the categorical columns\n",
    "categorical_cols = player_attrib.select_dtypes(include='object').columns.values\n",
    "categorical_cols\n"
   ]
  },
  {
   "cell_type": "code",
   "execution_count": 27,
   "metadata": {},
   "outputs": [
    {
     "data": {
      "text/plain": [
       "object    4\n",
       "dtype: int64"
      ]
     },
     "execution_count": 27,
     "metadata": {},
     "output_type": "execute_result"
    }
   ],
   "source": [
    "# Getting a list of all the \n",
    "player_attrib[categorical_cols].get_dtype_counts()"
   ]
  },
  {
   "cell_type": "code",
   "execution_count": 28,
   "metadata": {},
   "outputs": [
    {
     "data": {
      "text/plain": [
       "date                   197\n",
       "preferred_foot           2\n",
       "attacking_work_rate      8\n",
       "defensive_work_rate     18\n",
       "dtype: int64"
      ]
     },
     "execution_count": 28,
     "metadata": {},
     "output_type": "execute_result"
    }
   ],
   "source": [
    "# Checking the number of unique values in the categorical columns\n",
    "player_attrib[categorical_cols].nunique()"
   ]
  },
  {
   "cell_type": "code",
   "execution_count": 29,
   "metadata": {},
   "outputs": [
    {
     "data": {
      "text/plain": [
       "right    136247\n",
       "left      44107\n",
       "Name: preferred_foot, dtype: int64"
      ]
     },
     "execution_count": 29,
     "metadata": {},
     "output_type": "execute_result"
    }
   ],
   "source": [
    "# Checking the distribution of the values in the preferred_foot column\n",
    "player_attrib[\"preferred_foot\"].value_counts() "
   ]
  },
  {
   "cell_type": "markdown",
   "metadata": {},
   "source": [
    "*The preferred_foot column doesn't need cleaning*"
   ]
  },
  {
   "cell_type": "code",
   "execution_count": 26,
   "metadata": {},
   "outputs": [
    {
     "data": {
      "text/plain": [
       "2007-02-22 00:00:00    10410\n",
       "2011-08-30 00:00:00     6520\n",
       "2015-09-21 00:00:00     6518\n",
       "2013-09-20 00:00:00     6513\n",
       "2012-08-31 00:00:00     6491\n",
       "2014-09-18 00:00:00     6429\n",
       "2013-02-15 00:00:00     6373\n",
       "2010-08-30 00:00:00     6232\n",
       "2012-02-22 00:00:00     6134\n",
       "2011-02-22 00:00:00     5340\n",
       "2009-08-30 00:00:00     5312\n",
       "2008-08-30 00:00:00     4873\n",
       "2010-02-22 00:00:00     4160\n",
       "2007-08-30 00:00:00     3921\n",
       "2009-02-22 00:00:00     3048\n",
       "2013-03-22 00:00:00     1945\n",
       "2013-02-22 00:00:00     1487\n",
       "2015-01-09 00:00:00     1480\n",
       "2015-10-16 00:00:00     1469\n",
       "2013-03-08 00:00:00     1292\n",
       "2014-02-07 00:00:00     1244\n",
       "2014-10-02 00:00:00     1217\n",
       "2015-04-10 00:00:00     1188\n",
       "2014-11-14 00:00:00     1187\n",
       "2016-03-10 00:00:00     1180\n",
       "2014-01-31 00:00:00     1064\n",
       "2015-11-06 00:00:00     1060\n",
       "2013-04-19 00:00:00     1048\n",
       "2016-04-21 00:00:00     1044\n",
       "2014-04-04 00:00:00     1036\n",
       "                       ...  \n",
       "2014-08-22 00:00:00       52\n",
       "2016-06-23 00:00:00       52\n",
       "2013-09-13 00:00:00       51\n",
       "2015-01-28 00:00:00       50\n",
       "2016-06-30 00:00:00       46\n",
       "2015-08-07 00:00:00       45\n",
       "2015-01-26 00:00:00       45\n",
       "2014-09-19 00:00:00       43\n",
       "2016-02-19 00:00:00       42\n",
       "2013-09-06 00:00:00       34\n",
       "2015-04-01 00:00:00       30\n",
       "2013-03-04 00:00:00       30\n",
       "2015-09-04 00:00:00       29\n",
       "2014-12-27 00:00:00       28\n",
       "2015-08-27 00:00:00       26\n",
       "2015-06-26 00:00:00       24\n",
       "2014-08-29 00:00:00       23\n",
       "2015-06-19 00:00:00       22\n",
       "2015-08-21 00:00:00       20\n",
       "2014-09-26 00:00:00       19\n",
       "2014-09-05 00:00:00       19\n",
       "2015-10-19 00:00:00       12\n",
       "2016-07-07 00:00:00        9\n",
       "2015-12-30 00:00:00        7\n",
       "2015-03-10 00:00:00        7\n",
       "2014-11-26 00:00:00        6\n",
       "2015-09-10 00:00:00        5\n",
       "2015-09-01 00:00:00        5\n",
       "2016-02-13 00:00:00        1\n",
       "2014-07-20 00:00:00        1\n",
       "Name: date, Length: 197, dtype: int64"
      ]
     },
     "execution_count": 26,
     "metadata": {},
     "output_type": "execute_result"
    }
   ],
   "source": [
    "# Checking the distribution of date column\n",
    "player_attrib[\"date\"].value_counts()"
   ]
  },
  {
   "cell_type": "markdown",
   "metadata": {},
   "source": [
    "The date column item values don't need cleaning\n"
   ]
  },
  {
   "cell_type": "code",
   "execution_count": 30,
   "metadata": {},
   "outputs": [
    {
     "data": {
      "text/plain": [
       "medium    125070\n",
       "high       42823\n",
       "low         8569\n",
       "None        3317\n",
       "norm         317\n",
       "y             94\n",
       "stoc          86\n",
       "le            78\n",
       "Name: attacking_work_rate, dtype: int64"
      ]
     },
     "execution_count": 30,
     "metadata": {},
     "output_type": "execute_result"
    }
   ],
   "source": [
    "# Checking the distribution of the values in the attacking_work_rate column\n",
    "player_attrib[\"attacking_work_rate\"].value_counts()"
   ]
  },
  {
   "cell_type": "markdown",
   "metadata": {},
   "source": [
    "The attacking_work_rate column item values need to be set to medium, low or high as those are the only possible values for attacking_work_rate. \n",
    "\n",
    "Reference: http://www.fifplay.com/encyclopedia/work-rate/\n"
   ]
  },
  {
   "cell_type": "code",
   "execution_count": 31,
   "metadata": {},
   "outputs": [
    {
     "data": {
      "text/plain": [
       "<matplotlib.axes._subplots.AxesSubplot at 0x194b3c923c8>"
      ]
     },
     "execution_count": 31,
     "metadata": {},
     "output_type": "execute_result"
    },
    {
     "data": {
      "image/png": "[encoded data removed]",
      "text/plain": [
       "<matplotlib.figure.Figure at 0x194afc44d68>"
      ]
     },
     "metadata": {},
     "output_type": "display_data"
    }
   ],
   "source": [
    "# Plotting the distribution of the values in the attacking_work_rate column\n",
    "player_attrib[\"attacking_work_rate\"].value_counts().plot.bar()"
   ]
  },
  {
   "cell_type": "markdown",
   "metadata": {},
   "source": [
    "__We can choose to drop the columns where the categorical values do not make sense or we can replace those values into the three categories, medium, high, low__"
   ]
  },
  {
   "cell_type": "markdown",
   "metadata": {},
   "source": [
    "###  Ignore this - Dropping rows with gibberish values in attacking_work_rate "
   ]
  },
  {
   "cell_type": "code",
   "execution_count": 32,
   "metadata": {
    "code_folding": []
   },
   "outputs": [
    {
     "data": {
      "text/plain": [
       "2.1579781984319757"
      ]
     },
     "execution_count": 32,
     "metadata": {},
     "output_type": "execute_result"
    }
   ],
   "source": [
    "# To delete the rows which have the gibberish values\n",
    "cleaned = player_attrib[~(player_attrib.attacking_work_rate.isin(['None','norm','y','stoc','le']))] # Delete the rows which the values in the list\n",
    "               \n",
    "(1- cleaned.shape[0]/player_attrib.shape[0])*100"
   ]
  },
  {
   "cell_type": "markdown",
   "metadata": {},
   "source": [
    "2.15% Data Loss"
   ]
  },
  {
   "cell_type": "markdown",
   "metadata": {},
   "source": [
    "### To replace gibberish values with medium, low, high"
   ]
  },
  {
   "cell_type": "code",
   "execution_count": 34,
   "metadata": {},
   "outputs": [
    {
     "name": "stdout",
     "output_type": "stream",
     "text": [
      "medium    125070\n",
      "high       42823\n",
      "low        12461\n",
      "Name: attacking_work_rate, dtype: int64\n"
     ]
    },
    {
     "data": {
      "text/plain": [
       "<matplotlib.axes._subplots.AxesSubplot at 0x194ac879a90>"
      ]
     },
     "execution_count": 34,
     "metadata": {},
     "output_type": "execute_result"
    },
    {
     "data": {
      "image/png": "[encoded data removed]",
      "text/plain": [
       "<matplotlib.figure.Figure at 0x194abb99da0>"
      ]
     },
     "metadata": {},
     "output_type": "display_data"
    }
   ],
   "source": [
    "# Choosing to replace only with low because it can improve the variance of the column\n",
    "player_attrib.replace( ['None','norm','y','stoc','le'],'low', inplace = True)\n",
    "print(player_attrib[\"attacking_work_rate\"].value_counts())\n",
    "player_attrib[\"attacking_work_rate\"].value_counts().plot.bar()"
   ]
  },
  {
   "cell_type": "code",
   "execution_count": 35,
   "metadata": {},
   "outputs": [
    {
     "data": {
      "text/plain": [
       "medium    130846\n",
       "high       27041\n",
       "low        18432\n",
       "o           1328\n",
       "1            421\n",
       "2            334\n",
       "ormal        317\n",
       "3            243\n",
       "5            231\n",
       "7            207\n",
       "0            188\n",
       "6            179\n",
       "9            143\n",
       "4            116\n",
       "es            94\n",
       "tocky         86\n",
       "ean           78\n",
       "8             70\n",
       "Name: defensive_work_rate, dtype: int64"
      ]
     },
     "execution_count": 35,
     "metadata": {},
     "output_type": "execute_result"
    }
   ],
   "source": [
    "# Checking the distribution of the values in the defensive_work_rate column\n",
    "player_attrib[\"defensive_work_rate\"].value_counts()"
   ]
  },
  {
   "cell_type": "markdown",
   "metadata": {},
   "source": [
    "The defensive_work_rate column items need to be set into medium, low or high as those are the only possible values for defensive_work_rate. \n",
    "\n",
    "Reference: http://www.fifplay.com/encyclopedia/work-rate/"
   ]
  },
  {
   "cell_type": "code",
   "execution_count": 36,
   "metadata": {},
   "outputs": [
    {
     "data": {
      "text/plain": [
       "<matplotlib.axes._subplots.AxesSubplot at 0x194ab6ca9b0>"
      ]
     },
     "execution_count": 36,
     "metadata": {},
     "output_type": "execute_result"
    },
    {
     "data": {
      "image/png": "[encoded data removed]",
      "text/plain": [
       "<matplotlib.figure.Figure at 0x194b0ec0ac8>"
      ]
     },
     "metadata": {},
     "output_type": "display_data"
    }
   ],
   "source": [
    "# Plotting the distribution of the values in the defensive_work_rate column\n",
    "player_attrib[\"defensive_work_rate\"].value_counts().plot.bar()"
   ]
  },
  {
   "cell_type": "markdown",
   "metadata": {},
   "source": [
    "__WE can choose to drop the columns where the categorical values do not make sense or we can re-organize those values into the three categories, medium, high, low__"
   ]
  },
  {
   "cell_type": "markdown",
   "metadata": {},
   "source": [
    "### Ignore this - Dropping rows with gibberish values in defensive_work_rate"
   ]
  },
  {
   "cell_type": "code",
   "execution_count": 37,
   "metadata": {},
   "outputs": [],
   "source": [
    "# To delete the rows which have the gibberish values\n",
    "cleaned1 = player_attrib[~(player_attrib.defensive_work_rate.isin(['o', '1', '2', 'ormal', '3', '5', '7', '0', \n",
    "                                                         '6', '9', '4', 'es', 'tocky', 'ean', '8']))] "
   ]
  },
  {
   "cell_type": "code",
   "execution_count": 38,
   "metadata": {},
   "outputs": [
    {
     "data": {
      "text/plain": [
       "2.2372667088060183"
      ]
     },
     "execution_count": 38,
     "metadata": {},
     "output_type": "execute_result"
    }
   ],
   "source": [
    "(1- cleaned1.shape[0]/player_attrib.shape[0])*100"
   ]
  },
  {
   "cell_type": "markdown",
   "metadata": {},
   "source": [
    "2.2% Data Loss"
   ]
  },
  {
   "cell_type": "markdown",
   "metadata": {},
   "source": [
    " __OR__"
   ]
  },
  {
   "cell_type": "markdown",
   "metadata": {},
   "source": [
    "### To replace gibberish values with medium, low, high"
   ]
  },
  {
   "cell_type": "code",
   "execution_count": 39,
   "metadata": {},
   "outputs": [
    {
     "name": "stdout",
     "output_type": "stream",
     "text": [
      "medium    131372\n",
      "high       27461\n",
      "low        21521\n",
      "Name: defensive_work_rate, dtype: int64\n"
     ]
    },
    {
     "data": {
      "text/plain": [
       "<matplotlib.axes._subplots.AxesSubplot at 0x194b2a06d30>"
      ]
     },
     "execution_count": 39,
     "metadata": {},
     "output_type": "execute_result"
    },
    {
     "data": {
      "image/png": "[encoded data removed]",
      "text/plain": [
       "<matplotlib.figure.Figure at 0x194ae26e518>"
      ]
     },
     "metadata": {},
     "output_type": "display_data"
    }
   ],
   "source": [
    "player_attrib.replace(['o', '1', '2', 'ormal', '3', '0', 'es', 'tocky', 'ean'],'low',inplace = True) \n",
    "player_attrib.replace(['5',  '6', '4'],'medium', inplace = True) \n",
    "player_attrib.replace([ '7', '9', '8'],'high', inplace = True) \n",
    "print(player_attrib[\"defensive_work_rate\"].value_counts())\n",
    "player_attrib[\"defensive_work_rate\"].value_counts().plot.bar()"
   ]
  },
  {
   "cell_type": "markdown",
   "metadata": {},
   "source": [
    "# Basic Statistical Information"
   ]
  },
  {
   "cell_type": "code",
   "execution_count": 40,
   "metadata": {},
   "outputs": [
    {
     "data": {
      "text/html": [
       "<div>\n",
       "<style scoped>\n",
       "    .dataframe tbody tr th:only-of-type {\n",
       "        vertical-align: middle;\n",
       "    }\n",
       "\n",
       "    .dataframe tbody tr th {\n",
       "        vertical-align: top;\n",
       "    }\n",
       "\n",
       "    .dataframe thead th {\n",
       "        text-align: right;\n",
       "    }\n",
       "</style>\n",
       "<table border=\"1\" class=\"dataframe\">\n",
       "  <thead>\n",
       "    <tr style=\"text-align: right;\">\n",
       "      <th></th>\n",
       "      <th>id</th>\n",
       "      <th>player_fifa_api_id</th>\n",
       "      <th>player_api_id</th>\n",
       "      <th>potential</th>\n",
       "      <th>crossing</th>\n",
       "      <th>finishing</th>\n",
       "      <th>heading_accuracy</th>\n",
       "      <th>short_passing</th>\n",
       "      <th>volleys</th>\n",
       "      <th>dribbling</th>\n",
       "      <th>...</th>\n",
       "      <th>penalties</th>\n",
       "      <th>marking</th>\n",
       "      <th>standing_tackle</th>\n",
       "      <th>sliding_tackle</th>\n",
       "      <th>gk_diving</th>\n",
       "      <th>gk_handling</th>\n",
       "      <th>gk_kicking</th>\n",
       "      <th>gk_positioning</th>\n",
       "      <th>gk_reflexes</th>\n",
       "      <th>overall_rating</th>\n",
       "    </tr>\n",
       "  </thead>\n",
       "  <tbody>\n",
       "    <tr>\n",
       "      <th>count</th>\n",
       "      <td>180354.000000</td>\n",
       "      <td>180354.000000</td>\n",
       "      <td>180354.000000</td>\n",
       "      <td>180354.000000</td>\n",
       "      <td>180354.000000</td>\n",
       "      <td>180354.000000</td>\n",
       "      <td>180354.000000</td>\n",
       "      <td>180354.000000</td>\n",
       "      <td>180354.000000</td>\n",
       "      <td>180354.000000</td>\n",
       "      <td>...</td>\n",
       "      <td>180354.000000</td>\n",
       "      <td>180354.000000</td>\n",
       "      <td>180354.000000</td>\n",
       "      <td>180354.000000</td>\n",
       "      <td>180354.000000</td>\n",
       "      <td>180354.000000</td>\n",
       "      <td>180354.000000</td>\n",
       "      <td>180354.000000</td>\n",
       "      <td>180354.00000</td>\n",
       "      <td>180354.000000</td>\n",
       "    </tr>\n",
       "    <tr>\n",
       "      <th>mean</th>\n",
       "      <td>91995.886274</td>\n",
       "      <td>166822.125803</td>\n",
       "      <td>137653.145514</td>\n",
       "      <td>73.479457</td>\n",
       "      <td>55.142071</td>\n",
       "      <td>49.962136</td>\n",
       "      <td>57.263476</td>\n",
       "      <td>62.486726</td>\n",
       "      <td>49.488927</td>\n",
       "      <td>59.265755</td>\n",
       "      <td>...</td>\n",
       "      <td>54.933448</td>\n",
       "      <td>46.757433</td>\n",
       "      <td>50.354065</td>\n",
       "      <td>48.029342</td>\n",
       "      <td>14.696685</td>\n",
       "      <td>15.947786</td>\n",
       "      <td>20.526304</td>\n",
       "      <td>16.015043</td>\n",
       "      <td>16.32531</td>\n",
       "      <td>68.635317</td>\n",
       "    </tr>\n",
       "    <tr>\n",
       "      <th>std</th>\n",
       "      <td>53092.657914</td>\n",
       "      <td>52821.443279</td>\n",
       "      <td>137599.735284</td>\n",
       "      <td>6.581963</td>\n",
       "      <td>17.247231</td>\n",
       "      <td>19.041760</td>\n",
       "      <td>16.478716</td>\n",
       "      <td>14.172493</td>\n",
       "      <td>18.252319</td>\n",
       "      <td>17.741351</td>\n",
       "      <td>...</td>\n",
       "      <td>15.556645</td>\n",
       "      <td>21.226730</td>\n",
       "      <td>21.496289</td>\n",
       "      <td>21.592830</td>\n",
       "      <td>16.841454</td>\n",
       "      <td>15.841297</td>\n",
       "      <td>21.143898</td>\n",
       "      <td>16.070772</td>\n",
       "      <td>17.18545</td>\n",
       "      <td>7.027950</td>\n",
       "    </tr>\n",
       "    <tr>\n",
       "      <th>min</th>\n",
       "      <td>1.000000</td>\n",
       "      <td>2.000000</td>\n",
       "      <td>2625.000000</td>\n",
       "      <td>39.000000</td>\n",
       "      <td>1.000000</td>\n",
       "      <td>1.000000</td>\n",
       "      <td>1.000000</td>\n",
       "      <td>3.000000</td>\n",
       "      <td>1.000000</td>\n",
       "      <td>1.000000</td>\n",
       "      <td>...</td>\n",
       "      <td>2.000000</td>\n",
       "      <td>1.000000</td>\n",
       "      <td>1.000000</td>\n",
       "      <td>2.000000</td>\n",
       "      <td>1.000000</td>\n",
       "      <td>1.000000</td>\n",
       "      <td>1.000000</td>\n",
       "      <td>1.000000</td>\n",
       "      <td>1.00000</td>\n",
       "      <td>33.000000</td>\n",
       "    </tr>\n",
       "    <tr>\n",
       "      <th>25%</th>\n",
       "      <td>46074.250000</td>\n",
       "      <td>156616.000000</td>\n",
       "      <td>35451.000000</td>\n",
       "      <td>69.000000</td>\n",
       "      <td>45.000000</td>\n",
       "      <td>34.000000</td>\n",
       "      <td>49.000000</td>\n",
       "      <td>57.000000</td>\n",
       "      <td>35.000000</td>\n",
       "      <td>52.000000</td>\n",
       "      <td>...</td>\n",
       "      <td>45.000000</td>\n",
       "      <td>25.000000</td>\n",
       "      <td>29.000000</td>\n",
       "      <td>25.000000</td>\n",
       "      <td>7.000000</td>\n",
       "      <td>8.000000</td>\n",
       "      <td>8.000000</td>\n",
       "      <td>8.000000</td>\n",
       "      <td>8.00000</td>\n",
       "      <td>64.000000</td>\n",
       "    </tr>\n",
       "    <tr>\n",
       "      <th>50%</th>\n",
       "      <td>92003.500000</td>\n",
       "      <td>183792.000000</td>\n",
       "      <td>80291.000000</td>\n",
       "      <td>74.000000</td>\n",
       "      <td>59.000000</td>\n",
       "      <td>53.000000</td>\n",
       "      <td>60.000000</td>\n",
       "      <td>65.000000</td>\n",
       "      <td>52.000000</td>\n",
       "      <td>64.000000</td>\n",
       "      <td>...</td>\n",
       "      <td>57.000000</td>\n",
       "      <td>50.000000</td>\n",
       "      <td>56.000000</td>\n",
       "      <td>53.000000</td>\n",
       "      <td>10.000000</td>\n",
       "      <td>11.000000</td>\n",
       "      <td>12.000000</td>\n",
       "      <td>11.000000</td>\n",
       "      <td>11.00000</td>\n",
       "      <td>69.000000</td>\n",
       "    </tr>\n",
       "    <tr>\n",
       "      <th>75%</th>\n",
       "      <td>137935.750000</td>\n",
       "      <td>200138.000000</td>\n",
       "      <td>192841.000000</td>\n",
       "      <td>78.000000</td>\n",
       "      <td>68.000000</td>\n",
       "      <td>65.000000</td>\n",
       "      <td>68.000000</td>\n",
       "      <td>72.000000</td>\n",
       "      <td>64.000000</td>\n",
       "      <td>72.000000</td>\n",
       "      <td>...</td>\n",
       "      <td>67.000000</td>\n",
       "      <td>66.000000</td>\n",
       "      <td>69.000000</td>\n",
       "      <td>67.000000</td>\n",
       "      <td>13.000000</td>\n",
       "      <td>15.000000</td>\n",
       "      <td>15.000000</td>\n",
       "      <td>15.000000</td>\n",
       "      <td>15.00000</td>\n",
       "      <td>73.000000</td>\n",
       "    </tr>\n",
       "    <tr>\n",
       "      <th>max</th>\n",
       "      <td>183978.000000</td>\n",
       "      <td>234141.000000</td>\n",
       "      <td>750584.000000</td>\n",
       "      <td>97.000000</td>\n",
       "      <td>95.000000</td>\n",
       "      <td>97.000000</td>\n",
       "      <td>98.000000</td>\n",
       "      <td>97.000000</td>\n",
       "      <td>93.000000</td>\n",
       "      <td>97.000000</td>\n",
       "      <td>...</td>\n",
       "      <td>96.000000</td>\n",
       "      <td>94.000000</td>\n",
       "      <td>95.000000</td>\n",
       "      <td>95.000000</td>\n",
       "      <td>94.000000</td>\n",
       "      <td>93.000000</td>\n",
       "      <td>97.000000</td>\n",
       "      <td>96.000000</td>\n",
       "      <td>96.00000</td>\n",
       "      <td>94.000000</td>\n",
       "    </tr>\n",
       "  </tbody>\n",
       "</table>\n",
       "<p>8 rows × 38 columns</p>\n",
       "</div>"
      ],
      "text/plain": [
       "                  id  player_fifa_api_id  player_api_id      potential  \\\n",
       "count  180354.000000       180354.000000  180354.000000  180354.000000   \n",
       "mean    91995.886274       166822.125803  137653.145514      73.479457   \n",
       "std     53092.657914        52821.443279  137599.735284       6.581963   \n",
       "min         1.000000            2.000000    2625.000000      39.000000   \n",
       "25%     46074.250000       156616.000000   35451.000000      69.000000   \n",
       "50%     92003.500000       183792.000000   80291.000000      74.000000   \n",
       "75%    137935.750000       200138.000000  192841.000000      78.000000   \n",
       "max    183978.000000       234141.000000  750584.000000      97.000000   \n",
       "\n",
       "            crossing      finishing  heading_accuracy  short_passing  \\\n",
       "count  180354.000000  180354.000000     180354.000000  180354.000000   \n",
       "mean       55.142071      49.962136         57.263476      62.486726   \n",
       "std        17.247231      19.041760         16.478716      14.172493   \n",
       "min         1.000000       1.000000          1.000000       3.000000   \n",
       "25%        45.000000      34.000000         49.000000      57.000000   \n",
       "50%        59.000000      53.000000         60.000000      65.000000   \n",
       "75%        68.000000      65.000000         68.000000      72.000000   \n",
       "max        95.000000      97.000000         98.000000      97.000000   \n",
       "\n",
       "             volleys      dribbling       ...            penalties  \\\n",
       "count  180354.000000  180354.000000       ...        180354.000000   \n",
       "mean       49.488927      59.265755       ...            54.933448   \n",
       "std        18.252319      17.741351       ...            15.556645   \n",
       "min         1.000000       1.000000       ...             2.000000   \n",
       "25%        35.000000      52.000000       ...            45.000000   \n",
       "50%        52.000000      64.000000       ...            57.000000   \n",
       "75%        64.000000      72.000000       ...            67.000000   \n",
       "max        93.000000      97.000000       ...            96.000000   \n",
       "\n",
       "             marking  standing_tackle  sliding_tackle      gk_diving  \\\n",
       "count  180354.000000    180354.000000   180354.000000  180354.000000   \n",
       "mean       46.757433        50.354065       48.029342      14.696685   \n",
       "std        21.226730        21.496289       21.592830      16.841454   \n",
       "min         1.000000         1.000000        2.000000       1.000000   \n",
       "25%        25.000000        29.000000       25.000000       7.000000   \n",
       "50%        50.000000        56.000000       53.000000      10.000000   \n",
       "75%        66.000000        69.000000       67.000000      13.000000   \n",
       "max        94.000000        95.000000       95.000000      94.000000   \n",
       "\n",
       "         gk_handling     gk_kicking  gk_positioning   gk_reflexes  \\\n",
       "count  180354.000000  180354.000000   180354.000000  180354.00000   \n",
       "mean       15.947786      20.526304       16.015043      16.32531   \n",
       "std        15.841297      21.143898       16.070772      17.18545   \n",
       "min         1.000000       1.000000        1.000000       1.00000   \n",
       "25%         8.000000       8.000000        8.000000       8.00000   \n",
       "50%        11.000000      12.000000       11.000000      11.00000   \n",
       "75%        15.000000      15.000000       15.000000      15.00000   \n",
       "max        93.000000      97.000000       96.000000      96.00000   \n",
       "\n",
       "       overall_rating  \n",
       "count   180354.000000  \n",
       "mean        68.635317  \n",
       "std          7.027950  \n",
       "min         33.000000  \n",
       "25%         64.000000  \n",
       "50%         69.000000  \n",
       "75%         73.000000  \n",
       "max         94.000000  \n",
       "\n",
       "[8 rows x 38 columns]"
      ]
     },
     "execution_count": 40,
     "metadata": {},
     "output_type": "execute_result"
    }
   ],
   "source": [
    "# Getting basic statistical information about the numerical columns\n",
    "player_attrib.describe() # Only numerical columns"
   ]
  },
  {
   "cell_type": "code",
   "execution_count": 41,
   "metadata": {},
   "outputs": [
    {
     "data": {
      "text/html": [
       "<div>\n",
       "<style scoped>\n",
       "    .dataframe tbody tr th:only-of-type {\n",
       "        vertical-align: middle;\n",
       "    }\n",
       "\n",
       "    .dataframe tbody tr th {\n",
       "        vertical-align: top;\n",
       "    }\n",
       "\n",
       "    .dataframe thead th {\n",
       "        text-align: right;\n",
       "    }\n",
       "</style>\n",
       "<table border=\"1\" class=\"dataframe\">\n",
       "  <thead>\n",
       "    <tr style=\"text-align: right;\">\n",
       "      <th></th>\n",
       "      <th>id</th>\n",
       "      <th>player_fifa_api_id</th>\n",
       "      <th>player_api_id</th>\n",
       "      <th>potential</th>\n",
       "      <th>crossing</th>\n",
       "      <th>finishing</th>\n",
       "      <th>heading_accuracy</th>\n",
       "      <th>short_passing</th>\n",
       "      <th>volleys</th>\n",
       "      <th>dribbling</th>\n",
       "      <th>...</th>\n",
       "      <th>penalties</th>\n",
       "      <th>marking</th>\n",
       "      <th>standing_tackle</th>\n",
       "      <th>sliding_tackle</th>\n",
       "      <th>gk_diving</th>\n",
       "      <th>gk_handling</th>\n",
       "      <th>gk_kicking</th>\n",
       "      <th>gk_positioning</th>\n",
       "      <th>gk_reflexes</th>\n",
       "      <th>overall_rating</th>\n",
       "    </tr>\n",
       "  </thead>\n",
       "  <tbody>\n",
       "    <tr>\n",
       "      <th>id</th>\n",
       "      <td>1.000000</td>\n",
       "      <td>0.003744</td>\n",
       "      <td>0.002048</td>\n",
       "      <td>0.000837</td>\n",
       "      <td>-0.020231</td>\n",
       "      <td>-0.008171</td>\n",
       "      <td>-0.011781</td>\n",
       "      <td>-0.006701</td>\n",
       "      <td>-0.006916</td>\n",
       "      <td>-0.014784</td>\n",
       "      <td>...</td>\n",
       "      <td>-0.011751</td>\n",
       "      <td>-0.010329</td>\n",
       "      <td>-0.012515</td>\n",
       "      <td>-0.011101</td>\n",
       "      <td>0.014251</td>\n",
       "      <td>0.010911</td>\n",
       "      <td>0.008758</td>\n",
       "      <td>0.014015</td>\n",
       "      <td>0.014671</td>\n",
       "      <td>-0.003738</td>\n",
       "    </tr>\n",
       "    <tr>\n",
       "      <th>player_fifa_api_id</th>\n",
       "      <td>0.003744</td>\n",
       "      <td>1.000000</td>\n",
       "      <td>0.556557</td>\n",
       "      <td>-0.021252</td>\n",
       "      <td>-0.065631</td>\n",
       "      <td>-0.029836</td>\n",
       "      <td>-0.103500</td>\n",
       "      <td>-0.065311</td>\n",
       "      <td>-0.088726</td>\n",
       "      <td>0.047551</td>\n",
       "      <td>...</td>\n",
       "      <td>-0.175255</td>\n",
       "      <td>-0.075568</td>\n",
       "      <td>-0.071128</td>\n",
       "      <td>-0.055218</td>\n",
       "      <td>-0.092945</td>\n",
       "      <td>-0.138844</td>\n",
       "      <td>-0.248222</td>\n",
       "      <td>-0.140925</td>\n",
       "      <td>-0.131531</td>\n",
       "      <td>-0.278703</td>\n",
       "    </tr>\n",
       "    <tr>\n",
       "      <th>player_api_id</th>\n",
       "      <td>0.002048</td>\n",
       "      <td>0.556557</td>\n",
       "      <td>1.000000</td>\n",
       "      <td>0.010588</td>\n",
       "      <td>-0.113365</td>\n",
       "      <td>-0.062312</td>\n",
       "      <td>-0.130282</td>\n",
       "      <td>-0.090237</td>\n",
       "      <td>-0.131262</td>\n",
       "      <td>0.015616</td>\n",
       "      <td>...</td>\n",
       "      <td>-0.162481</td>\n",
       "      <td>-0.089772</td>\n",
       "      <td>-0.086706</td>\n",
       "      <td>-0.073595</td>\n",
       "      <td>-0.071825</td>\n",
       "      <td>-0.125345</td>\n",
       "      <td>-0.229704</td>\n",
       "      <td>-0.125525</td>\n",
       "      <td>-0.121947</td>\n",
       "      <td>-0.328315</td>\n",
       "    </tr>\n",
       "    <tr>\n",
       "      <th>potential</th>\n",
       "      <td>0.000837</td>\n",
       "      <td>-0.021252</td>\n",
       "      <td>0.010588</td>\n",
       "      <td>1.000000</td>\n",
       "      <td>0.277284</td>\n",
       "      <td>0.287838</td>\n",
       "      <td>0.206063</td>\n",
       "      <td>0.382538</td>\n",
       "      <td>0.301678</td>\n",
       "      <td>0.339978</td>\n",
       "      <td>...</td>\n",
       "      <td>0.315207</td>\n",
       "      <td>0.054094</td>\n",
       "      <td>0.082073</td>\n",
       "      <td>0.063284</td>\n",
       "      <td>-0.012283</td>\n",
       "      <td>0.005865</td>\n",
       "      <td>0.092299</td>\n",
       "      <td>0.004472</td>\n",
       "      <td>0.004936</td>\n",
       "      <td>0.765435</td>\n",
       "    </tr>\n",
       "    <tr>\n",
       "      <th>crossing</th>\n",
       "      <td>-0.020231</td>\n",
       "      <td>-0.065631</td>\n",
       "      <td>-0.113365</td>\n",
       "      <td>0.277284</td>\n",
       "      <td>1.000000</td>\n",
       "      <td>0.576896</td>\n",
       "      <td>0.368956</td>\n",
       "      <td>0.790323</td>\n",
       "      <td>0.637527</td>\n",
       "      <td>0.809747</td>\n",
       "      <td>...</td>\n",
       "      <td>0.574208</td>\n",
       "      <td>0.234886</td>\n",
       "      <td>0.285018</td>\n",
       "      <td>0.274673</td>\n",
       "      <td>-0.604567</td>\n",
       "      <td>-0.595646</td>\n",
       "      <td>-0.356728</td>\n",
       "      <td>-0.597742</td>\n",
       "      <td>-0.601696</td>\n",
       "      <td>0.357320</td>\n",
       "    </tr>\n",
       "    <tr>\n",
       "      <th>finishing</th>\n",
       "      <td>-0.008171</td>\n",
       "      <td>-0.029836</td>\n",
       "      <td>-0.062312</td>\n",
       "      <td>0.287838</td>\n",
       "      <td>0.576896</td>\n",
       "      <td>1.000000</td>\n",
       "      <td>0.373459</td>\n",
       "      <td>0.580245</td>\n",
       "      <td>0.851482</td>\n",
       "      <td>0.784988</td>\n",
       "      <td>...</td>\n",
       "      <td>0.726234</td>\n",
       "      <td>-0.285416</td>\n",
       "      <td>-0.230453</td>\n",
       "      <td>-0.262144</td>\n",
       "      <td>-0.479370</td>\n",
       "      <td>-0.465135</td>\n",
       "      <td>-0.292349</td>\n",
       "      <td>-0.470758</td>\n",
       "      <td>-0.473302</td>\n",
       "      <td>0.330079</td>\n",
       "    </tr>\n",
       "    <tr>\n",
       "      <th>heading_accuracy</th>\n",
       "      <td>-0.011781</td>\n",
       "      <td>-0.103500</td>\n",
       "      <td>-0.130282</td>\n",
       "      <td>0.206063</td>\n",
       "      <td>0.368956</td>\n",
       "      <td>0.373459</td>\n",
       "      <td>1.000000</td>\n",
       "      <td>0.548435</td>\n",
       "      <td>0.391129</td>\n",
       "      <td>0.400803</td>\n",
       "      <td>...</td>\n",
       "      <td>0.431291</td>\n",
       "      <td>0.460831</td>\n",
       "      <td>0.480054</td>\n",
       "      <td>0.441134</td>\n",
       "      <td>-0.665600</td>\n",
       "      <td>-0.649145</td>\n",
       "      <td>-0.402865</td>\n",
       "      <td>-0.648981</td>\n",
       "      <td>-0.652494</td>\n",
       "      <td>0.313324</td>\n",
       "    </tr>\n",
       "    <tr>\n",
       "      <th>short_passing</th>\n",
       "      <td>-0.006701</td>\n",
       "      <td>-0.065311</td>\n",
       "      <td>-0.090237</td>\n",
       "      <td>0.382538</td>\n",
       "      <td>0.790323</td>\n",
       "      <td>0.580245</td>\n",
       "      <td>0.548435</td>\n",
       "      <td>1.000000</td>\n",
       "      <td>0.639995</td>\n",
       "      <td>0.788935</td>\n",
       "      <td>...</td>\n",
       "      <td>0.612511</td>\n",
       "      <td>0.349578</td>\n",
       "      <td>0.415427</td>\n",
       "      <td>0.380148</td>\n",
       "      <td>-0.694111</td>\n",
       "      <td>-0.689874</td>\n",
       "      <td>-0.422659</td>\n",
       "      <td>-0.691030</td>\n",
       "      <td>-0.693260</td>\n",
       "      <td>0.458243</td>\n",
       "    </tr>\n",
       "    <tr>\n",
       "      <th>volleys</th>\n",
       "      <td>-0.006916</td>\n",
       "      <td>-0.088726</td>\n",
       "      <td>-0.131262</td>\n",
       "      <td>0.301678</td>\n",
       "      <td>0.637527</td>\n",
       "      <td>0.851482</td>\n",
       "      <td>0.391129</td>\n",
       "      <td>0.639995</td>\n",
       "      <td>1.000000</td>\n",
       "      <td>0.784247</td>\n",
       "      <td>...</td>\n",
       "      <td>0.713116</td>\n",
       "      <td>-0.170094</td>\n",
       "      <td>-0.108062</td>\n",
       "      <td>-0.127810</td>\n",
       "      <td>-0.508029</td>\n",
       "      <td>-0.486178</td>\n",
       "      <td>-0.279492</td>\n",
       "      <td>-0.490148</td>\n",
       "      <td>-0.492267</td>\n",
       "      <td>0.361739</td>\n",
       "    </tr>\n",
       "    <tr>\n",
       "      <th>dribbling</th>\n",
       "      <td>-0.014784</td>\n",
       "      <td>0.047551</td>\n",
       "      <td>0.015616</td>\n",
       "      <td>0.339978</td>\n",
       "      <td>0.809747</td>\n",
       "      <td>0.784988</td>\n",
       "      <td>0.400803</td>\n",
       "      <td>0.788935</td>\n",
       "      <td>0.784247</td>\n",
       "      <td>1.000000</td>\n",
       "      <td>...</td>\n",
       "      <td>0.663420</td>\n",
       "      <td>0.004345</td>\n",
       "      <td>0.067306</td>\n",
       "      <td>0.044988</td>\n",
       "      <td>-0.654097</td>\n",
       "      <td>-0.650645</td>\n",
       "      <td>-0.432452</td>\n",
       "      <td>-0.653560</td>\n",
       "      <td>-0.656195</td>\n",
       "      <td>0.354191</td>\n",
       "    </tr>\n",
       "    <tr>\n",
       "      <th>curve</th>\n",
       "      <td>-0.019523</td>\n",
       "      <td>-0.052501</td>\n",
       "      <td>-0.099430</td>\n",
       "      <td>0.296050</td>\n",
       "      <td>0.788924</td>\n",
       "      <td>0.691082</td>\n",
       "      <td>0.320384</td>\n",
       "      <td>0.731948</td>\n",
       "      <td>0.752410</td>\n",
       "      <td>0.810353</td>\n",
       "      <td>...</td>\n",
       "      <td>0.649737</td>\n",
       "      <td>0.032956</td>\n",
       "      <td>0.094466</td>\n",
       "      <td>0.080110</td>\n",
       "      <td>-0.556625</td>\n",
       "      <td>-0.544940</td>\n",
       "      <td>-0.333784</td>\n",
       "      <td>-0.549870</td>\n",
       "      <td>-0.551574</td>\n",
       "      <td>0.357566</td>\n",
       "    </tr>\n",
       "    <tr>\n",
       "      <th>free_kick_accuracy</th>\n",
       "      <td>-0.008396</td>\n",
       "      <td>-0.108735</td>\n",
       "      <td>-0.152683</td>\n",
       "      <td>0.262842</td>\n",
       "      <td>0.708763</td>\n",
       "      <td>0.633274</td>\n",
       "      <td>0.306013</td>\n",
       "      <td>0.693490</td>\n",
       "      <td>0.682909</td>\n",
       "      <td>0.707322</td>\n",
       "      <td>...</td>\n",
       "      <td>0.669018</td>\n",
       "      <td>0.072918</td>\n",
       "      <td>0.133147</td>\n",
       "      <td>0.105894</td>\n",
       "      <td>-0.498347</td>\n",
       "      <td>-0.491631</td>\n",
       "      <td>-0.279713</td>\n",
       "      <td>-0.494253</td>\n",
       "      <td>-0.495868</td>\n",
       "      <td>0.349800</td>\n",
       "    </tr>\n",
       "    <tr>\n",
       "      <th>long_passing</th>\n",
       "      <td>-0.008137</td>\n",
       "      <td>-0.111272</td>\n",
       "      <td>-0.139584</td>\n",
       "      <td>0.343133</td>\n",
       "      <td>0.685649</td>\n",
       "      <td>0.341121</td>\n",
       "      <td>0.362741</td>\n",
       "      <td>0.803073</td>\n",
       "      <td>0.414520</td>\n",
       "      <td>0.579201</td>\n",
       "      <td>...</td>\n",
       "      <td>0.476750</td>\n",
       "      <td>0.441837</td>\n",
       "      <td>0.496679</td>\n",
       "      <td>0.462544</td>\n",
       "      <td>-0.464221</td>\n",
       "      <td>-0.466906</td>\n",
       "      <td>-0.261361</td>\n",
       "      <td>-0.468453</td>\n",
       "      <td>-0.469598</td>\n",
       "      <td>0.434525</td>\n",
       "    </tr>\n",
       "    <tr>\n",
       "      <th>ball_control</th>\n",
       "      <td>-0.013976</td>\n",
       "      <td>-0.024942</td>\n",
       "      <td>-0.053940</td>\n",
       "      <td>0.401803</td>\n",
       "      <td>0.807721</td>\n",
       "      <td>0.720694</td>\n",
       "      <td>0.550956</td>\n",
       "      <td>0.890622</td>\n",
       "      <td>0.749459</td>\n",
       "      <td>0.901730</td>\n",
       "      <td>...</td>\n",
       "      <td>0.684410</td>\n",
       "      <td>0.188479</td>\n",
       "      <td>0.252325</td>\n",
       "      <td>0.220588</td>\n",
       "      <td>-0.741678</td>\n",
       "      <td>-0.732701</td>\n",
       "      <td>-0.465803</td>\n",
       "      <td>-0.735166</td>\n",
       "      <td>-0.738085</td>\n",
       "      <td>0.443991</td>\n",
       "    </tr>\n",
       "    <tr>\n",
       "      <th>acceleration</th>\n",
       "      <td>-0.008212</td>\n",
       "      <td>0.178267</td>\n",
       "      <td>0.101536</td>\n",
       "      <td>0.338820</td>\n",
       "      <td>0.599439</td>\n",
       "      <td>0.529355</td>\n",
       "      <td>0.198164</td>\n",
       "      <td>0.502893</td>\n",
       "      <td>0.512931</td>\n",
       "      <td>0.698906</td>\n",
       "      <td>...</td>\n",
       "      <td>0.428884</td>\n",
       "      <td>-0.034449</td>\n",
       "      <td>-0.006462</td>\n",
       "      <td>0.000558</td>\n",
       "      <td>-0.481988</td>\n",
       "      <td>-0.465823</td>\n",
       "      <td>-0.279128</td>\n",
       "      <td>-0.468226</td>\n",
       "      <td>-0.469669</td>\n",
       "      <td>0.243998</td>\n",
       "    </tr>\n",
       "    <tr>\n",
       "      <th>sprint_speed</th>\n",
       "      <td>-0.011897</td>\n",
       "      <td>0.178343</td>\n",
       "      <td>0.094236</td>\n",
       "      <td>0.340698</td>\n",
       "      <td>0.579506</td>\n",
       "      <td>0.509647</td>\n",
       "      <td>0.265430</td>\n",
       "      <td>0.490562</td>\n",
       "      <td>0.493721</td>\n",
       "      <td>0.669779</td>\n",
       "      <td>...</td>\n",
       "      <td>0.411872</td>\n",
       "      <td>0.005501</td>\n",
       "      <td>0.033576</td>\n",
       "      <td>0.038742</td>\n",
       "      <td>-0.497846</td>\n",
       "      <td>-0.479999</td>\n",
       "      <td>-0.285362</td>\n",
       "      <td>-0.484227</td>\n",
       "      <td>-0.485750</td>\n",
       "      <td>0.253048</td>\n",
       "    </tr>\n",
       "    <tr>\n",
       "      <th>agility</th>\n",
       "      <td>-0.000947</td>\n",
       "      <td>0.116309</td>\n",
       "      <td>0.026467</td>\n",
       "      <td>0.293714</td>\n",
       "      <td>0.599561</td>\n",
       "      <td>0.554396</td>\n",
       "      <td>0.068570</td>\n",
       "      <td>0.510650</td>\n",
       "      <td>0.560021</td>\n",
       "      <td>0.703528</td>\n",
       "      <td>...</td>\n",
       "      <td>0.442737</td>\n",
       "      <td>-0.126362</td>\n",
       "      <td>-0.091032</td>\n",
       "      <td>-0.080848</td>\n",
       "      <td>-0.388833</td>\n",
       "      <td>-0.380188</td>\n",
       "      <td>-0.243554</td>\n",
       "      <td>-0.382839</td>\n",
       "      <td>-0.383367</td>\n",
       "      <td>0.239963</td>\n",
       "    </tr>\n",
       "    <tr>\n",
       "      <th>reactions</th>\n",
       "      <td>-0.005740</td>\n",
       "      <td>-0.233465</td>\n",
       "      <td>-0.312538</td>\n",
       "      <td>0.580991</td>\n",
       "      <td>0.384999</td>\n",
       "      <td>0.354769</td>\n",
       "      <td>0.295601</td>\n",
       "      <td>0.460469</td>\n",
       "      <td>0.397448</td>\n",
       "      <td>0.377852</td>\n",
       "      <td>...</td>\n",
       "      <td>0.390045</td>\n",
       "      <td>0.123173</td>\n",
       "      <td>0.159255</td>\n",
       "      <td>0.137098</td>\n",
       "      <td>-0.073940</td>\n",
       "      <td>-0.079753</td>\n",
       "      <td>-0.033067</td>\n",
       "      <td>-0.078091</td>\n",
       "      <td>-0.078300</td>\n",
       "      <td>0.771856</td>\n",
       "    </tr>\n",
       "    <tr>\n",
       "      <th>balance</th>\n",
       "      <td>-0.009909</td>\n",
       "      <td>0.008350</td>\n",
       "      <td>0.021300</td>\n",
       "      <td>0.202232</td>\n",
       "      <td>0.519778</td>\n",
       "      <td>0.394978</td>\n",
       "      <td>0.077255</td>\n",
       "      <td>0.462617</td>\n",
       "      <td>0.416578</td>\n",
       "      <td>0.547666</td>\n",
       "      <td>...</td>\n",
       "      <td>0.391050</td>\n",
       "      <td>0.036002</td>\n",
       "      <td>0.063704</td>\n",
       "      <td>0.075284</td>\n",
       "      <td>-0.386654</td>\n",
       "      <td>-0.362838</td>\n",
       "      <td>-0.184204</td>\n",
       "      <td>-0.364395</td>\n",
       "      <td>-0.366849</td>\n",
       "      <td>0.160211</td>\n",
       "    </tr>\n",
       "    <tr>\n",
       "      <th>shot_power</th>\n",
       "      <td>-0.010371</td>\n",
       "      <td>-0.080175</td>\n",
       "      <td>-0.126514</td>\n",
       "      <td>0.325459</td>\n",
       "      <td>0.656740</td>\n",
       "      <td>0.727835</td>\n",
       "      <td>0.541365</td>\n",
       "      <td>0.722320</td>\n",
       "      <td>0.746622</td>\n",
       "      <td>0.744960</td>\n",
       "      <td>...</td>\n",
       "      <td>0.680887</td>\n",
       "      <td>0.094068</td>\n",
       "      <td>0.155941</td>\n",
       "      <td>0.117569</td>\n",
       "      <td>-0.584551</td>\n",
       "      <td>-0.589048</td>\n",
       "      <td>-0.398712</td>\n",
       "      <td>-0.591626</td>\n",
       "      <td>-0.593827</td>\n",
       "      <td>0.428053</td>\n",
       "    </tr>\n",
       "    <tr>\n",
       "      <th>jumping</th>\n",
       "      <td>-0.004279</td>\n",
       "      <td>-0.073277</td>\n",
       "      <td>-0.141646</td>\n",
       "      <td>0.174532</td>\n",
       "      <td>0.021270</td>\n",
       "      <td>0.008948</td>\n",
       "      <td>0.286305</td>\n",
       "      <td>0.060067</td>\n",
       "      <td>0.023143</td>\n",
       "      <td>0.008645</td>\n",
       "      <td>...</td>\n",
       "      <td>0.058097</td>\n",
       "      <td>0.194289</td>\n",
       "      <td>0.188607</td>\n",
       "      <td>0.199657</td>\n",
       "      <td>-0.038265</td>\n",
       "      <td>-0.037035</td>\n",
       "      <td>-0.014910</td>\n",
       "      <td>-0.035719</td>\n",
       "      <td>-0.034010</td>\n",
       "      <td>0.258978</td>\n",
       "    </tr>\n",
       "    <tr>\n",
       "      <th>stamina</th>\n",
       "      <td>-0.010506</td>\n",
       "      <td>0.015277</td>\n",
       "      <td>-0.109958</td>\n",
       "      <td>0.259432</td>\n",
       "      <td>0.565935</td>\n",
       "      <td>0.347853</td>\n",
       "      <td>0.477830</td>\n",
       "      <td>0.611422</td>\n",
       "      <td>0.382636</td>\n",
       "      <td>0.527134</td>\n",
       "      <td>...</td>\n",
       "      <td>0.399233</td>\n",
       "      <td>0.416995</td>\n",
       "      <td>0.459434</td>\n",
       "      <td>0.437001</td>\n",
       "      <td>-0.554568</td>\n",
       "      <td>-0.543677</td>\n",
       "      <td>-0.320408</td>\n",
       "      <td>-0.542760</td>\n",
       "      <td>-0.547975</td>\n",
       "      <td>0.325606</td>\n",
       "    </tr>\n",
       "    <tr>\n",
       "      <th>strength</th>\n",
       "      <td>-0.008954</td>\n",
       "      <td>-0.178351</td>\n",
       "      <td>-0.234866</td>\n",
       "      <td>0.122392</td>\n",
       "      <td>-0.072915</td>\n",
       "      <td>-0.054596</td>\n",
       "      <td>0.493543</td>\n",
       "      <td>0.089782</td>\n",
       "      <td>-0.037103</td>\n",
       "      <td>-0.114107</td>\n",
       "      <td>...</td>\n",
       "      <td>0.056923</td>\n",
       "      <td>0.356111</td>\n",
       "      <td>0.365857</td>\n",
       "      <td>0.324646</td>\n",
       "      <td>-0.070762</td>\n",
       "      <td>-0.083506</td>\n",
       "      <td>-0.061410</td>\n",
       "      <td>-0.084202</td>\n",
       "      <td>-0.083624</td>\n",
       "      <td>0.315684</td>\n",
       "    </tr>\n",
       "    <tr>\n",
       "      <th>long_shots</th>\n",
       "      <td>-0.010382</td>\n",
       "      <td>-0.068652</td>\n",
       "      <td>-0.119638</td>\n",
       "      <td>0.313059</td>\n",
       "      <td>0.716515</td>\n",
       "      <td>0.806895</td>\n",
       "      <td>0.406003</td>\n",
       "      <td>0.729741</td>\n",
       "      <td>0.814894</td>\n",
       "      <td>0.807175</td>\n",
       "      <td>...</td>\n",
       "      <td>0.714596</td>\n",
       "      <td>-0.011926</td>\n",
       "      <td>0.054655</td>\n",
       "      <td>0.022683</td>\n",
       "      <td>-0.545446</td>\n",
       "      <td>-0.538702</td>\n",
       "      <td>-0.337826</td>\n",
       "      <td>-0.542884</td>\n",
       "      <td>-0.544979</td>\n",
       "      <td>0.392668</td>\n",
       "    </tr>\n",
       "    <tr>\n",
       "      <th>aggression</th>\n",
       "      <td>-0.018034</td>\n",
       "      <td>-0.170147</td>\n",
       "      <td>-0.212509</td>\n",
       "      <td>0.162137</td>\n",
       "      <td>0.324625</td>\n",
       "      <td>0.044465</td>\n",
       "      <td>0.577304</td>\n",
       "      <td>0.455426</td>\n",
       "      <td>0.127425</td>\n",
       "      <td>0.204592</td>\n",
       "      <td>...</td>\n",
       "      <td>0.218452</td>\n",
       "      <td>0.652986</td>\n",
       "      <td>0.682715</td>\n",
       "      <td>0.654777</td>\n",
       "      <td>-0.433406</td>\n",
       "      <td>-0.431515</td>\n",
       "      <td>-0.270683</td>\n",
       "      <td>-0.430153</td>\n",
       "      <td>-0.432776</td>\n",
       "      <td>0.322782</td>\n",
       "    </tr>\n",
       "    <tr>\n",
       "      <th>interceptions</th>\n",
       "      <td>-0.008480</td>\n",
       "      <td>-0.169307</td>\n",
       "      <td>-0.185482</td>\n",
       "      <td>0.163292</td>\n",
       "      <td>0.306446</td>\n",
       "      <td>-0.152560</td>\n",
       "      <td>0.454187</td>\n",
       "      <td>0.425764</td>\n",
       "      <td>-0.038534</td>\n",
       "      <td>0.106897</td>\n",
       "      <td>...</td>\n",
       "      <td>0.077169</td>\n",
       "      <td>0.835412</td>\n",
       "      <td>0.848326</td>\n",
       "      <td>0.825515</td>\n",
       "      <td>-0.375410</td>\n",
       "      <td>-0.336190</td>\n",
       "      <td>-0.090819</td>\n",
       "      <td>-0.330958</td>\n",
       "      <td>-0.335409</td>\n",
       "      <td>0.249094</td>\n",
       "    </tr>\n",
       "    <tr>\n",
       "      <th>positioning</th>\n",
       "      <td>-0.015643</td>\n",
       "      <td>-0.078862</td>\n",
       "      <td>-0.105157</td>\n",
       "      <td>0.326898</td>\n",
       "      <td>0.684803</td>\n",
       "      <td>0.803687</td>\n",
       "      <td>0.408972</td>\n",
       "      <td>0.679014</td>\n",
       "      <td>0.779166</td>\n",
       "      <td>0.798720</td>\n",
       "      <td>...</td>\n",
       "      <td>0.753908</td>\n",
       "      <td>-0.075977</td>\n",
       "      <td>-0.015256</td>\n",
       "      <td>-0.042476</td>\n",
       "      <td>-0.546791</td>\n",
       "      <td>-0.505852</td>\n",
       "      <td>-0.233736</td>\n",
       "      <td>-0.511490</td>\n",
       "      <td>-0.516008</td>\n",
       "      <td>0.368978</td>\n",
       "    </tr>\n",
       "    <tr>\n",
       "      <th>vision</th>\n",
       "      <td>-0.007928</td>\n",
       "      <td>-0.163099</td>\n",
       "      <td>-0.188087</td>\n",
       "      <td>0.379278</td>\n",
       "      <td>0.693978</td>\n",
       "      <td>0.652376</td>\n",
       "      <td>0.336472</td>\n",
       "      <td>0.766401</td>\n",
       "      <td>0.690716</td>\n",
       "      <td>0.734119</td>\n",
       "      <td>...</td>\n",
       "      <td>0.665802</td>\n",
       "      <td>0.080042</td>\n",
       "      <td>0.144749</td>\n",
       "      <td>0.118656</td>\n",
       "      <td>-0.502582</td>\n",
       "      <td>-0.461778</td>\n",
       "      <td>-0.201738</td>\n",
       "      <td>-0.465109</td>\n",
       "      <td>-0.470499</td>\n",
       "      <td>0.431493</td>\n",
       "    </tr>\n",
       "    <tr>\n",
       "      <th>penalties</th>\n",
       "      <td>-0.011751</td>\n",
       "      <td>-0.175255</td>\n",
       "      <td>-0.162481</td>\n",
       "      <td>0.315207</td>\n",
       "      <td>0.574208</td>\n",
       "      <td>0.726234</td>\n",
       "      <td>0.431291</td>\n",
       "      <td>0.612511</td>\n",
       "      <td>0.713116</td>\n",
       "      <td>0.663420</td>\n",
       "      <td>...</td>\n",
       "      <td>1.000000</td>\n",
       "      <td>-0.043649</td>\n",
       "      <td>0.005405</td>\n",
       "      <td>-0.030404</td>\n",
       "      <td>-0.470286</td>\n",
       "      <td>-0.435311</td>\n",
       "      <td>-0.189194</td>\n",
       "      <td>-0.439610</td>\n",
       "      <td>-0.443635</td>\n",
       "      <td>0.392715</td>\n",
       "    </tr>\n",
       "    <tr>\n",
       "      <th>marking</th>\n",
       "      <td>-0.010329</td>\n",
       "      <td>-0.075568</td>\n",
       "      <td>-0.089772</td>\n",
       "      <td>0.054094</td>\n",
       "      <td>0.234886</td>\n",
       "      <td>-0.285416</td>\n",
       "      <td>0.460831</td>\n",
       "      <td>0.349578</td>\n",
       "      <td>-0.170094</td>\n",
       "      <td>0.004345</td>\n",
       "      <td>...</td>\n",
       "      <td>-0.043649</td>\n",
       "      <td>1.000000</td>\n",
       "      <td>0.950370</td>\n",
       "      <td>0.937716</td>\n",
       "      <td>-0.382682</td>\n",
       "      <td>-0.376709</td>\n",
       "      <td>-0.202480</td>\n",
       "      <td>-0.370921</td>\n",
       "      <td>-0.373047</td>\n",
       "      <td>0.132185</td>\n",
       "    </tr>\n",
       "    <tr>\n",
       "      <th>standing_tackle</th>\n",
       "      <td>-0.012515</td>\n",
       "      <td>-0.071128</td>\n",
       "      <td>-0.086706</td>\n",
       "      <td>0.082073</td>\n",
       "      <td>0.285018</td>\n",
       "      <td>-0.230453</td>\n",
       "      <td>0.480054</td>\n",
       "      <td>0.415427</td>\n",
       "      <td>-0.108062</td>\n",
       "      <td>0.067306</td>\n",
       "      <td>...</td>\n",
       "      <td>0.005405</td>\n",
       "      <td>0.950370</td>\n",
       "      <td>1.000000</td>\n",
       "      <td>0.953264</td>\n",
       "      <td>-0.418985</td>\n",
       "      <td>-0.418084</td>\n",
       "      <td>-0.244711</td>\n",
       "      <td>-0.412529</td>\n",
       "      <td>-0.415528</td>\n",
       "      <td>0.163986</td>\n",
       "    </tr>\n",
       "    <tr>\n",
       "      <th>sliding_tackle</th>\n",
       "      <td>-0.011101</td>\n",
       "      <td>-0.055218</td>\n",
       "      <td>-0.073595</td>\n",
       "      <td>0.063284</td>\n",
       "      <td>0.274673</td>\n",
       "      <td>-0.262144</td>\n",
       "      <td>0.441134</td>\n",
       "      <td>0.380148</td>\n",
       "      <td>-0.127810</td>\n",
       "      <td>0.044988</td>\n",
       "      <td>...</td>\n",
       "      <td>-0.030404</td>\n",
       "      <td>0.937716</td>\n",
       "      <td>0.953264</td>\n",
       "      <td>1.000000</td>\n",
       "      <td>-0.399978</td>\n",
       "      <td>-0.392203</td>\n",
       "      <td>-0.212487</td>\n",
       "      <td>-0.386481</td>\n",
       "      <td>-0.389127</td>\n",
       "      <td>0.128054</td>\n",
       "    </tr>\n",
       "    <tr>\n",
       "      <th>gk_diving</th>\n",
       "      <td>0.014251</td>\n",
       "      <td>-0.092945</td>\n",
       "      <td>-0.071825</td>\n",
       "      <td>-0.012283</td>\n",
       "      <td>-0.604567</td>\n",
       "      <td>-0.479370</td>\n",
       "      <td>-0.665600</td>\n",
       "      <td>-0.694111</td>\n",
       "      <td>-0.508029</td>\n",
       "      <td>-0.654097</td>\n",
       "      <td>...</td>\n",
       "      <td>-0.470286</td>\n",
       "      <td>-0.382682</td>\n",
       "      <td>-0.418985</td>\n",
       "      <td>-0.399978</td>\n",
       "      <td>1.000000</td>\n",
       "      <td>0.926869</td>\n",
       "      <td>0.583455</td>\n",
       "      <td>0.928024</td>\n",
       "      <td>0.936807</td>\n",
       "      <td>0.027675</td>\n",
       "    </tr>\n",
       "    <tr>\n",
       "      <th>gk_handling</th>\n",
       "      <td>0.010911</td>\n",
       "      <td>-0.138844</td>\n",
       "      <td>-0.125345</td>\n",
       "      <td>0.005865</td>\n",
       "      <td>-0.595646</td>\n",
       "      <td>-0.465135</td>\n",
       "      <td>-0.649145</td>\n",
       "      <td>-0.689874</td>\n",
       "      <td>-0.486178</td>\n",
       "      <td>-0.650645</td>\n",
       "      <td>...</td>\n",
       "      <td>-0.435311</td>\n",
       "      <td>-0.376709</td>\n",
       "      <td>-0.418084</td>\n",
       "      <td>-0.392203</td>\n",
       "      <td>0.926869</td>\n",
       "      <td>1.000000</td>\n",
       "      <td>0.746524</td>\n",
       "      <td>0.965876</td>\n",
       "      <td>0.966029</td>\n",
       "      <td>0.006717</td>\n",
       "    </tr>\n",
       "    <tr>\n",
       "      <th>gk_kicking</th>\n",
       "      <td>0.008758</td>\n",
       "      <td>-0.248222</td>\n",
       "      <td>-0.229704</td>\n",
       "      <td>0.092299</td>\n",
       "      <td>-0.356728</td>\n",
       "      <td>-0.292349</td>\n",
       "      <td>-0.402865</td>\n",
       "      <td>-0.422659</td>\n",
       "      <td>-0.279492</td>\n",
       "      <td>-0.432452</td>\n",
       "      <td>...</td>\n",
       "      <td>-0.189194</td>\n",
       "      <td>-0.202480</td>\n",
       "      <td>-0.244711</td>\n",
       "      <td>-0.212487</td>\n",
       "      <td>0.583455</td>\n",
       "      <td>0.746524</td>\n",
       "      <td>1.000000</td>\n",
       "      <td>0.745670</td>\n",
       "      <td>0.739146</td>\n",
       "      <td>0.028799</td>\n",
       "    </tr>\n",
       "    <tr>\n",
       "      <th>gk_positioning</th>\n",
       "      <td>0.014015</td>\n",
       "      <td>-0.140925</td>\n",
       "      <td>-0.125525</td>\n",
       "      <td>0.004472</td>\n",
       "      <td>-0.597742</td>\n",
       "      <td>-0.470758</td>\n",
       "      <td>-0.648981</td>\n",
       "      <td>-0.691030</td>\n",
       "      <td>-0.490148</td>\n",
       "      <td>-0.653560</td>\n",
       "      <td>...</td>\n",
       "      <td>-0.439610</td>\n",
       "      <td>-0.370921</td>\n",
       "      <td>-0.412529</td>\n",
       "      <td>-0.386481</td>\n",
       "      <td>0.928024</td>\n",
       "      <td>0.965876</td>\n",
       "      <td>0.745670</td>\n",
       "      <td>1.000000</td>\n",
       "      <td>0.966407</td>\n",
       "      <td>0.008029</td>\n",
       "    </tr>\n",
       "    <tr>\n",
       "      <th>gk_reflexes</th>\n",
       "      <td>0.014671</td>\n",
       "      <td>-0.131531</td>\n",
       "      <td>-0.121947</td>\n",
       "      <td>0.004936</td>\n",
       "      <td>-0.601696</td>\n",
       "      <td>-0.473302</td>\n",
       "      <td>-0.652494</td>\n",
       "      <td>-0.693260</td>\n",
       "      <td>-0.492267</td>\n",
       "      <td>-0.656195</td>\n",
       "      <td>...</td>\n",
       "      <td>-0.443635</td>\n",
       "      <td>-0.373047</td>\n",
       "      <td>-0.415528</td>\n",
       "      <td>-0.389127</td>\n",
       "      <td>0.936807</td>\n",
       "      <td>0.966029</td>\n",
       "      <td>0.739146</td>\n",
       "      <td>0.966407</td>\n",
       "      <td>1.000000</td>\n",
       "      <td>0.007804</td>\n",
       "    </tr>\n",
       "    <tr>\n",
       "      <th>overall_rating</th>\n",
       "      <td>-0.003738</td>\n",
       "      <td>-0.278703</td>\n",
       "      <td>-0.328315</td>\n",
       "      <td>0.765435</td>\n",
       "      <td>0.357320</td>\n",
       "      <td>0.330079</td>\n",
       "      <td>0.313324</td>\n",
       "      <td>0.458243</td>\n",
       "      <td>0.361739</td>\n",
       "      <td>0.354191</td>\n",
       "      <td>...</td>\n",
       "      <td>0.392715</td>\n",
       "      <td>0.132185</td>\n",
       "      <td>0.163986</td>\n",
       "      <td>0.128054</td>\n",
       "      <td>0.027675</td>\n",
       "      <td>0.006717</td>\n",
       "      <td>0.028799</td>\n",
       "      <td>0.008029</td>\n",
       "      <td>0.007804</td>\n",
       "      <td>1.000000</td>\n",
       "    </tr>\n",
       "  </tbody>\n",
       "</table>\n",
       "<p>38 rows × 38 columns</p>\n",
       "</div>"
      ],
      "text/plain": [
       "                          id  player_fifa_api_id  player_api_id  potential  \\\n",
       "id                  1.000000            0.003744       0.002048   0.000837   \n",
       "player_fifa_api_id  0.003744            1.000000       0.556557  -0.021252   \n",
       "player_api_id       0.002048            0.556557       1.000000   0.010588   \n",
       "potential           0.000837           -0.021252       0.010588   1.000000   \n",
       "crossing           -0.020231           -0.065631      -0.113365   0.277284   \n",
       "finishing          -0.008171           -0.029836      -0.062312   0.287838   \n",
       "heading_accuracy   -0.011781           -0.103500      -0.130282   0.206063   \n",
       "short_passing      -0.006701           -0.065311      -0.090237   0.382538   \n",
       "volleys            -0.006916           -0.088726      -0.131262   0.301678   \n",
       "dribbling          -0.014784            0.047551       0.015616   0.339978   \n",
       "curve              -0.019523           -0.052501      -0.099430   0.296050   \n",
       "free_kick_accuracy -0.008396           -0.108735      -0.152683   0.262842   \n",
       "long_passing       -0.008137           -0.111272      -0.139584   0.343133   \n",
       "ball_control       -0.013976           -0.024942      -0.053940   0.401803   \n",
       "acceleration       -0.008212            0.178267       0.101536   0.338820   \n",
       "sprint_speed       -0.011897            0.178343       0.094236   0.340698   \n",
       "agility            -0.000947            0.116309       0.026467   0.293714   \n",
       "reactions          -0.005740           -0.233465      -0.312538   0.580991   \n",
       "balance            -0.009909            0.008350       0.021300   0.202232   \n",
       "shot_power         -0.010371           -0.080175      -0.126514   0.325459   \n",
       "jumping            -0.004279           -0.073277      -0.141646   0.174532   \n",
       "stamina            -0.010506            0.015277      -0.109958   0.259432   \n",
       "strength           -0.008954           -0.178351      -0.234866   0.122392   \n",
       "long_shots         -0.010382           -0.068652      -0.119638   0.313059   \n",
       "aggression         -0.018034           -0.170147      -0.212509   0.162137   \n",
       "interceptions      -0.008480           -0.169307      -0.185482   0.163292   \n",
       "positioning        -0.015643           -0.078862      -0.105157   0.326898   \n",
       "vision             -0.007928           -0.163099      -0.188087   0.379278   \n",
       "penalties          -0.011751           -0.175255      -0.162481   0.315207   \n",
       "marking            -0.010329           -0.075568      -0.089772   0.054094   \n",
       "standing_tackle    -0.012515           -0.071128      -0.086706   0.082073   \n",
       "sliding_tackle     -0.011101           -0.055218      -0.073595   0.063284   \n",
       "gk_diving           0.014251           -0.092945      -0.071825  -0.012283   \n",
       "gk_handling         0.010911           -0.138844      -0.125345   0.005865   \n",
       "gk_kicking          0.008758           -0.248222      -0.229704   0.092299   \n",
       "gk_positioning      0.014015           -0.140925      -0.125525   0.004472   \n",
       "gk_reflexes         0.014671           -0.131531      -0.121947   0.004936   \n",
       "overall_rating     -0.003738           -0.278703      -0.328315   0.765435   \n",
       "\n",
       "                    crossing  finishing  heading_accuracy  short_passing  \\\n",
       "id                 -0.020231  -0.008171         -0.011781      -0.006701   \n",
       "player_fifa_api_id -0.065631  -0.029836         -0.103500      -0.065311   \n",
       "player_api_id      -0.113365  -0.062312         -0.130282      -0.090237   \n",
       "potential           0.277284   0.287838          0.206063       0.382538   \n",
       "crossing            1.000000   0.576896          0.368956       0.790323   \n",
       "finishing           0.576896   1.000000          0.373459       0.580245   \n",
       "heading_accuracy    0.368956   0.373459          1.000000       0.548435   \n",
       "short_passing       0.790323   0.580245          0.548435       1.000000   \n",
       "volleys             0.637527   0.851482          0.391129       0.639995   \n",
       "dribbling           0.809747   0.784988          0.400803       0.788935   \n",
       "curve               0.788924   0.691082          0.320384       0.731948   \n",
       "free_kick_accuracy  0.708763   0.633274          0.306013       0.693490   \n",
       "long_passing        0.685649   0.341121          0.362741       0.803073   \n",
       "ball_control        0.807721   0.720694          0.550956       0.890622   \n",
       "acceleration        0.599439   0.529355          0.198164       0.502893   \n",
       "sprint_speed        0.579506   0.509647          0.265430       0.490562   \n",
       "agility             0.599561   0.554396          0.068570       0.510650   \n",
       "reactions           0.384999   0.354769          0.295601       0.460469   \n",
       "balance             0.519778   0.394978          0.077255       0.462617   \n",
       "shot_power          0.656740   0.727835          0.541365       0.722320   \n",
       "jumping             0.021270   0.008948          0.286305       0.060067   \n",
       "stamina             0.565935   0.347853          0.477830       0.611422   \n",
       "strength           -0.072915  -0.054596          0.493543       0.089782   \n",
       "long_shots          0.716515   0.806895          0.406003       0.729741   \n",
       "aggression          0.324625   0.044465          0.577304       0.455426   \n",
       "interceptions       0.306446  -0.152560          0.454187       0.425764   \n",
       "positioning         0.684803   0.803687          0.408972       0.679014   \n",
       "vision              0.693978   0.652376          0.336472       0.766401   \n",
       "penalties           0.574208   0.726234          0.431291       0.612511   \n",
       "marking             0.234886  -0.285416          0.460831       0.349578   \n",
       "standing_tackle     0.285018  -0.230453          0.480054       0.415427   \n",
       "sliding_tackle      0.274673  -0.262144          0.441134       0.380148   \n",
       "gk_diving          -0.604567  -0.479370         -0.665600      -0.694111   \n",
       "gk_handling        -0.595646  -0.465135         -0.649145      -0.689874   \n",
       "gk_kicking         -0.356728  -0.292349         -0.402865      -0.422659   \n",
       "gk_positioning     -0.597742  -0.470758         -0.648981      -0.691030   \n",
       "gk_reflexes        -0.601696  -0.473302         -0.652494      -0.693260   \n",
       "overall_rating      0.357320   0.330079          0.313324       0.458243   \n",
       "\n",
       "                     volleys  dribbling       ...        penalties   marking  \\\n",
       "id                 -0.006916  -0.014784       ...        -0.011751 -0.010329   \n",
       "player_fifa_api_id -0.088726   0.047551       ...        -0.175255 -0.075568   \n",
       "player_api_id      -0.131262   0.015616       ...        -0.162481 -0.089772   \n",
       "potential           0.301678   0.339978       ...         0.315207  0.054094   \n",
       "crossing            0.637527   0.809747       ...         0.574208  0.234886   \n",
       "finishing           0.851482   0.784988       ...         0.726234 -0.285416   \n",
       "heading_accuracy    0.391129   0.400803       ...         0.431291  0.460831   \n",
       "short_passing       0.639995   0.788935       ...         0.612511  0.349578   \n",
       "volleys             1.000000   0.784247       ...         0.713116 -0.170094   \n",
       "dribbling           0.784247   1.000000       ...         0.663420  0.004345   \n",
       "curve               0.752410   0.810353       ...         0.649737  0.032956   \n",
       "free_kick_accuracy  0.682909   0.707322       ...         0.669018  0.072918   \n",
       "long_passing        0.414520   0.579201       ...         0.476750  0.441837   \n",
       "ball_control        0.749459   0.901730       ...         0.684410  0.188479   \n",
       "acceleration        0.512931   0.698906       ...         0.428884 -0.034449   \n",
       "sprint_speed        0.493721   0.669779       ...         0.411872  0.005501   \n",
       "agility             0.560021   0.703528       ...         0.442737 -0.126362   \n",
       "reactions           0.397448   0.377852       ...         0.390045  0.123173   \n",
       "balance             0.416578   0.547666       ...         0.391050  0.036002   \n",
       "shot_power          0.746622   0.744960       ...         0.680887  0.094068   \n",
       "jumping             0.023143   0.008645       ...         0.058097  0.194289   \n",
       "stamina             0.382636   0.527134       ...         0.399233  0.416995   \n",
       "strength           -0.037103  -0.114107       ...         0.056923  0.356111   \n",
       "long_shots          0.814894   0.807175       ...         0.714596 -0.011926   \n",
       "aggression          0.127425   0.204592       ...         0.218452  0.652986   \n",
       "interceptions      -0.038534   0.106897       ...         0.077169  0.835412   \n",
       "positioning         0.779166   0.798720       ...         0.753908 -0.075977   \n",
       "vision              0.690716   0.734119       ...         0.665802  0.080042   \n",
       "penalties           0.713116   0.663420       ...         1.000000 -0.043649   \n",
       "marking            -0.170094   0.004345       ...        -0.043649  1.000000   \n",
       "standing_tackle    -0.108062   0.067306       ...         0.005405  0.950370   \n",
       "sliding_tackle     -0.127810   0.044988       ...        -0.030404  0.937716   \n",
       "gk_diving          -0.508029  -0.654097       ...        -0.470286 -0.382682   \n",
       "gk_handling        -0.486178  -0.650645       ...        -0.435311 -0.376709   \n",
       "gk_kicking         -0.279492  -0.432452       ...        -0.189194 -0.202480   \n",
       "gk_positioning     -0.490148  -0.653560       ...        -0.439610 -0.370921   \n",
       "gk_reflexes        -0.492267  -0.656195       ...        -0.443635 -0.373047   \n",
       "overall_rating      0.361739   0.354191       ...         0.392715  0.132185   \n",
       "\n",
       "                    standing_tackle  sliding_tackle  gk_diving  gk_handling  \\\n",
       "id                        -0.012515       -0.011101   0.014251     0.010911   \n",
       "player_fifa_api_id        -0.071128       -0.055218  -0.092945    -0.138844   \n",
       "player_api_id             -0.086706       -0.073595  -0.071825    -0.125345   \n",
       "potential                  0.082073        0.063284  -0.012283     0.005865   \n",
       "crossing                   0.285018        0.274673  -0.604567    -0.595646   \n",
       "finishing                 -0.230453       -0.262144  -0.479370    -0.465135   \n",
       "heading_accuracy           0.480054        0.441134  -0.665600    -0.649145   \n",
       "short_passing              0.415427        0.380148  -0.694111    -0.689874   \n",
       "volleys                   -0.108062       -0.127810  -0.508029    -0.486178   \n",
       "dribbling                  0.067306        0.044988  -0.654097    -0.650645   \n",
       "curve                      0.094466        0.080110  -0.556625    -0.544940   \n",
       "free_kick_accuracy         0.133147        0.105894  -0.498347    -0.491631   \n",
       "long_passing               0.496679        0.462544  -0.464221    -0.466906   \n",
       "ball_control               0.252325        0.220588  -0.741678    -0.732701   \n",
       "acceleration              -0.006462        0.000558  -0.481988    -0.465823   \n",
       "sprint_speed               0.033576        0.038742  -0.497846    -0.479999   \n",
       "agility                   -0.091032       -0.080848  -0.388833    -0.380188   \n",
       "reactions                  0.159255        0.137098  -0.073940    -0.079753   \n",
       "balance                    0.063704        0.075284  -0.386654    -0.362838   \n",
       "shot_power                 0.155941        0.117569  -0.584551    -0.589048   \n",
       "jumping                    0.188607        0.199657  -0.038265    -0.037035   \n",
       "stamina                    0.459434        0.437001  -0.554568    -0.543677   \n",
       "strength                   0.365857        0.324646  -0.070762    -0.083506   \n",
       "long_shots                 0.054655        0.022683  -0.545446    -0.538702   \n",
       "aggression                 0.682715        0.654777  -0.433406    -0.431515   \n",
       "interceptions              0.848326        0.825515  -0.375410    -0.336190   \n",
       "positioning               -0.015256       -0.042476  -0.546791    -0.505852   \n",
       "vision                     0.144749        0.118656  -0.502582    -0.461778   \n",
       "penalties                  0.005405       -0.030404  -0.470286    -0.435311   \n",
       "marking                    0.950370        0.937716  -0.382682    -0.376709   \n",
       "standing_tackle            1.000000        0.953264  -0.418985    -0.418084   \n",
       "sliding_tackle             0.953264        1.000000  -0.399978    -0.392203   \n",
       "gk_diving                 -0.418985       -0.399978   1.000000     0.926869   \n",
       "gk_handling               -0.418084       -0.392203   0.926869     1.000000   \n",
       "gk_kicking                -0.244711       -0.212487   0.583455     0.746524   \n",
       "gk_positioning            -0.412529       -0.386481   0.928024     0.965876   \n",
       "gk_reflexes               -0.415528       -0.389127   0.936807     0.966029   \n",
       "overall_rating             0.163986        0.128054   0.027675     0.006717   \n",
       "\n",
       "                    gk_kicking  gk_positioning  gk_reflexes  overall_rating  \n",
       "id                    0.008758        0.014015     0.014671       -0.003738  \n",
       "player_fifa_api_id   -0.248222       -0.140925    -0.131531       -0.278703  \n",
       "player_api_id        -0.229704       -0.125525    -0.121947       -0.328315  \n",
       "potential             0.092299        0.004472     0.004936        0.765435  \n",
       "crossing             -0.356728       -0.597742    -0.601696        0.357320  \n",
       "finishing            -0.292349       -0.470758    -0.473302        0.330079  \n",
       "heading_accuracy     -0.402865       -0.648981    -0.652494        0.313324  \n",
       "short_passing        -0.422659       -0.691030    -0.693260        0.458243  \n",
       "volleys              -0.279492       -0.490148    -0.492267        0.361739  \n",
       "dribbling            -0.432452       -0.653560    -0.656195        0.354191  \n",
       "curve                -0.333784       -0.549870    -0.551574        0.357566  \n",
       "free_kick_accuracy   -0.279713       -0.494253    -0.495868        0.349800  \n",
       "long_passing         -0.261361       -0.468453    -0.469598        0.434525  \n",
       "ball_control         -0.465803       -0.735166    -0.738085        0.443991  \n",
       "acceleration         -0.279128       -0.468226    -0.469669        0.243998  \n",
       "sprint_speed         -0.285362       -0.484227    -0.485750        0.253048  \n",
       "agility              -0.243554       -0.382839    -0.383367        0.239963  \n",
       "reactions            -0.033067       -0.078091    -0.078300        0.771856  \n",
       "balance              -0.184204       -0.364395    -0.366849        0.160211  \n",
       "shot_power           -0.398712       -0.591626    -0.593827        0.428053  \n",
       "jumping              -0.014910       -0.035719    -0.034010        0.258978  \n",
       "stamina              -0.320408       -0.542760    -0.547975        0.325606  \n",
       "strength             -0.061410       -0.084202    -0.083624        0.315684  \n",
       "long_shots           -0.337826       -0.542884    -0.544979        0.392668  \n",
       "aggression           -0.270683       -0.430153    -0.432776        0.322782  \n",
       "interceptions        -0.090819       -0.330958    -0.335409        0.249094  \n",
       "positioning          -0.233736       -0.511490    -0.516008        0.368978  \n",
       "vision               -0.201738       -0.465109    -0.470499        0.431493  \n",
       "penalties            -0.189194       -0.439610    -0.443635        0.392715  \n",
       "marking              -0.202480       -0.370921    -0.373047        0.132185  \n",
       "standing_tackle      -0.244711       -0.412529    -0.415528        0.163986  \n",
       "sliding_tackle       -0.212487       -0.386481    -0.389127        0.128054  \n",
       "gk_diving             0.583455        0.928024     0.936807        0.027675  \n",
       "gk_handling           0.746524        0.965876     0.966029        0.006717  \n",
       "gk_kicking            1.000000        0.745670     0.739146        0.028799  \n",
       "gk_positioning        0.745670        1.000000     0.966407        0.008029  \n",
       "gk_reflexes           0.739146        0.966407     1.000000        0.007804  \n",
       "overall_rating        0.028799        0.008029     0.007804        1.000000  \n",
       "\n",
       "[38 rows x 38 columns]"
      ]
     },
     "execution_count": 41,
     "metadata": {},
     "output_type": "execute_result"
    }
   ],
   "source": [
    "# Getting correlation between various numerical columns\n",
    "player_attrib.corr()"
   ]
  },
  {
   "cell_type": "code",
   "execution_count": 42,
   "metadata": {},
   "outputs": [
    {
     "data": {
      "text/plain": [
       "<matplotlib.axes._subplots.AxesSubplot at 0x194b3bf1518>"
      ]
     },
     "execution_count": 42,
     "metadata": {},
     "output_type": "execute_result"
    },
    {
     "data": {
      "image/png": "[encoded data removed]",
      "text/plain": [
       "<matplotlib.figure.Figure at 0x194b3bed518>"
      ]
     },
     "metadata": {},
     "output_type": "display_data"
    }
   ],
   "source": [
    "# Checking for correlations using HEATMAP\n",
    "plt.figure(figsize=(20,20))\n",
    "sns.heatmap(player_attrib.corr(), cmap=\"PRGn\")"
   ]
  },
  {
   "cell_type": "code",
   "execution_count": 43,
   "metadata": {},
   "outputs": [
    {
     "data": {
      "text/plain": [
       "id                   -0.003738\n",
       "player_fifa_api_id   -0.278703\n",
       "player_api_id        -0.328315\n",
       "potential             0.765435\n",
       "crossing              0.357320\n",
       "finishing             0.330079\n",
       "heading_accuracy      0.313324\n",
       "short_passing         0.458243\n",
       "volleys               0.361739\n",
       "dribbling             0.354191\n",
       "curve                 0.357566\n",
       "free_kick_accuracy    0.349800\n",
       "long_passing          0.434525\n",
       "ball_control          0.443991\n",
       "acceleration          0.243998\n",
       "sprint_speed          0.253048\n",
       "agility               0.239963\n",
       "reactions             0.771856\n",
       "balance               0.160211\n",
       "shot_power            0.428053\n",
       "jumping               0.258978\n",
       "stamina               0.325606\n",
       "strength              0.315684\n",
       "long_shots            0.392668\n",
       "aggression            0.322782\n",
       "interceptions         0.249094\n",
       "positioning           0.368978\n",
       "vision                0.431493\n",
       "penalties             0.392715\n",
       "marking               0.132185\n",
       "standing_tackle       0.163986\n",
       "sliding_tackle        0.128054\n",
       "gk_diving             0.027675\n",
       "gk_handling           0.006717\n",
       "gk_kicking            0.028799\n",
       "gk_positioning        0.008029\n",
       "gk_reflexes           0.007804\n",
       "overall_rating        1.000000\n",
       "Name: overall_rating, dtype: float64"
      ]
     },
     "execution_count": 43,
     "metadata": {},
     "output_type": "execute_result"
    }
   ],
   "source": [
    "player_attrib.corr().loc['overall_rating']"
   ]
  },
  {
   "cell_type": "markdown",
   "metadata": {},
   "source": [
    "***overall_rating is highly correlated with the reactions and potential columns(Correlation>0.7). It is moderately correlated with short_passing, long_passing,ball_control, shot_power,vision (correlation >0.4)***\n",
    " "
   ]
  },
  {
   "cell_type": "markdown",
   "metadata": {},
   "source": [
    "\n",
    "# Exploratory Data Analysis"
   ]
  },
  {
   "cell_type": "markdown",
   "metadata": {},
   "source": [
    "## Univariate - Visual Analysis - Distribution and countplots etc."
   ]
  },
  {
   "cell_type": "markdown",
   "metadata": {},
   "source": [
    "### Univariate Analysis of Categorical Data"
   ]
  },
  {
   "cell_type": "code",
   "execution_count": 44,
   "metadata": {},
   "outputs": [
    {
     "data": {
      "text/plain": [
       "array(['date', 'preferred_foot', 'attacking_work_rate',\n",
       "       'defensive_work_rate'], dtype=object)"
      ]
     },
     "execution_count": 44,
     "metadata": {},
     "output_type": "execute_result"
    }
   ],
   "source": [
    "categorical_cols"
   ]
  },
  {
   "cell_type": "code",
   "execution_count": 45,
   "metadata": {},
   "outputs": [
    {
     "data": {
      "text/html": [
       "<div>\n",
       "<style scoped>\n",
       "    .dataframe tbody tr th:only-of-type {\n",
       "        vertical-align: middle;\n",
       "    }\n",
       "\n",
       "    .dataframe tbody tr th {\n",
       "        vertical-align: top;\n",
       "    }\n",
       "\n",
       "    .dataframe thead th {\n",
       "        text-align: right;\n",
       "    }\n",
       "</style>\n",
       "<table border=\"1\" class=\"dataframe\">\n",
       "  <thead>\n",
       "    <tr style=\"text-align: right;\">\n",
       "      <th></th>\n",
       "      <th>date</th>\n",
       "      <th>preferred_foot</th>\n",
       "      <th>attacking_work_rate</th>\n",
       "      <th>defensive_work_rate</th>\n",
       "    </tr>\n",
       "  </thead>\n",
       "  <tbody>\n",
       "    <tr>\n",
       "      <th>0</th>\n",
       "      <td>2016-02-18 00:00:00</td>\n",
       "      <td>right</td>\n",
       "      <td>medium</td>\n",
       "      <td>medium</td>\n",
       "    </tr>\n",
       "    <tr>\n",
       "      <th>1</th>\n",
       "      <td>2015-11-19 00:00:00</td>\n",
       "      <td>right</td>\n",
       "      <td>medium</td>\n",
       "      <td>medium</td>\n",
       "    </tr>\n",
       "    <tr>\n",
       "      <th>2</th>\n",
       "      <td>2015-09-21 00:00:00</td>\n",
       "      <td>right</td>\n",
       "      <td>medium</td>\n",
       "      <td>medium</td>\n",
       "    </tr>\n",
       "    <tr>\n",
       "      <th>3</th>\n",
       "      <td>2015-03-20 00:00:00</td>\n",
       "      <td>right</td>\n",
       "      <td>medium</td>\n",
       "      <td>medium</td>\n",
       "    </tr>\n",
       "    <tr>\n",
       "      <th>4</th>\n",
       "      <td>2007-02-22 00:00:00</td>\n",
       "      <td>right</td>\n",
       "      <td>medium</td>\n",
       "      <td>medium</td>\n",
       "    </tr>\n",
       "  </tbody>\n",
       "</table>\n",
       "</div>"
      ],
      "text/plain": [
       "                  date preferred_foot attacking_work_rate defensive_work_rate\n",
       "0  2016-02-18 00:00:00          right              medium              medium\n",
       "1  2015-11-19 00:00:00          right              medium              medium\n",
       "2  2015-09-21 00:00:00          right              medium              medium\n",
       "3  2015-03-20 00:00:00          right              medium              medium\n",
       "4  2007-02-22 00:00:00          right              medium              medium"
      ]
     },
     "execution_count": 45,
     "metadata": {},
     "output_type": "execute_result"
    }
   ],
   "source": [
    "player_attrib[categorical_cols].head()"
   ]
  },
  {
   "cell_type": "code",
   "execution_count": 46,
   "metadata": {},
   "outputs": [
    {
     "data": {
      "text/plain": [
       "<matplotlib.axes._subplots.AxesSubplot at 0x194b3976358>"
      ]
     },
     "execution_count": 46,
     "metadata": {},
     "output_type": "execute_result"
    },
    {
     "data": {
      "image/png": "[encoded data removed]",
      "text/plain": [
       "<matplotlib.figure.Figure at 0x194b396d048>"
      ]
     },
     "metadata": {},
     "output_type": "display_data"
    }
   ],
   "source": [
    "player_attrib.date.hist(bins=100)"
   ]
  },
  {
   "cell_type": "code",
   "execution_count": 43,
   "metadata": {},
   "outputs": [
    {
     "data": {
      "text/plain": [
       "<matplotlib.axes._subplots.AxesSubplot at 0x1e15cc22400>"
      ]
     },
     "execution_count": 43,
     "metadata": {},
     "output_type": "execute_result"
    },
    {
     "data": {
      "image/png": "[encoded data removed]",
      "text/plain": [
       "<matplotlib.figure.Figure at 0x1e15c8a2630>"
      ]
     },
     "metadata": {},
     "output_type": "display_data"
    }
   ],
   "source": [
    "player_attrib.preferred_foot.hist()"
   ]
  },
  {
   "cell_type": "markdown",
   "metadata": {},
   "source": [
    "___Majority of the players' preferred foot is the right leg___"
   ]
  },
  {
   "cell_type": "code",
   "execution_count": 47,
   "metadata": {},
   "outputs": [
    {
     "data": {
      "text/plain": [
       "<matplotlib.axes._subplots.AxesSubplot at 0x194b24d5e48>"
      ]
     },
     "execution_count": 47,
     "metadata": {},
     "output_type": "execute_result"
    },
    {
     "data": {
      "image/png": "[encoded data removed]",
      "text/plain": [
       "<matplotlib.figure.Figure at 0x194b20b1eb8>"
      ]
     },
     "metadata": {},
     "output_type": "display_data"
    }
   ],
   "source": [
    "player_attrib.attacking_work_rate.hist()"
   ]
  },
  {
   "cell_type": "markdown",
   "metadata": {},
   "source": [
    "___Majority of the players' attacking work rate is medium___"
   ]
  },
  {
   "cell_type": "code",
   "execution_count": 45,
   "metadata": {},
   "outputs": [
    {
     "data": {
      "text/plain": [
       "<matplotlib.axes._subplots.AxesSubplot at 0x1e15dff1cc0>"
      ]
     },
     "execution_count": 45,
     "metadata": {},
     "output_type": "execute_result"
    },
    {
     "data": {
      "image/png": "[encoded data removed]",
      "text/plain": [
       "<matplotlib.figure.Figure at 0x1e15dffbe80>"
      ]
     },
     "metadata": {},
     "output_type": "display_data"
    }
   ],
   "source": [
    "player_attrib.defensive_work_rate.hist()"
   ]
  },
  {
   "cell_type": "markdown",
   "metadata": {},
   "source": [
    "___Majority of the players' defensive work rate is medium___"
   ]
  },
  {
   "cell_type": "code",
   "execution_count": 48,
   "metadata": {
    "scrolled": true
   },
   "outputs": [
    {
     "data": {
      "text/plain": [
       "<matplotlib.axes._subplots.AxesSubplot at 0x194b1585c88>"
      ]
     },
     "execution_count": 48,
     "metadata": {},
     "output_type": "execute_result"
    },
    {
     "data": {
      "image/png": "[encoded data removed]",
      "text/plain": [
       "<matplotlib.figure.Figure at 0x194b2325400>"
      ]
     },
     "metadata": {},
     "output_type": "display_data"
    }
   ],
   "source": [
    "player_attrib['overall_rating'].hist(bins=60)"
   ]
  },
  {
   "cell_type": "markdown",
   "metadata": {},
   "source": [
    "___Players' overall rating is normally distributed___"
   ]
  },
  {
   "cell_type": "markdown",
   "metadata": {},
   "source": [
    "### Univariate Analysis of Numerical Data"
   ]
  },
  {
   "cell_type": "code",
   "execution_count": 49,
   "metadata": {
    "scrolled": false
   },
   "outputs": [
    {
     "data": {
      "image/png": "[encoded data removed]",
      "text/plain": [
       "<matplotlib.figure.Figure at 0x194b3c01e48>"
      ]
     },
     "metadata": {},
     "output_type": "display_data"
    }
   ],
   "source": [
    "# Plotting the histograms of numerical columns to understand their distribution\n",
    "player_attrib.hist(bins=100,figsize=(20,40),layout=(10,4))\n",
    "plt.show() "
   ]
  },
  {
   "cell_type": "markdown",
   "metadata": {},
   "source": [
    "***The interception, marking, standing_tackle and diving_tackle column values follow bimodal distribution***"
   ]
  },
  {
   "cell_type": "markdown",
   "metadata": {},
   "source": [
    "***The gk_diving, gk_relexes, gk_positioning, gk_kicking, gk_handling column values follow also bimodal distribution but are imbalanced***"
   ]
  },
  {
   "cell_type": "markdown",
   "metadata": {},
   "source": [
    "***All other player attributes column values roughly follow normal distribution. This is to be expected as majority of the players have reasonably attributes but only some have exceptional attributes***"
   ]
  },
  {
   "cell_type": "markdown",
   "metadata": {},
   "source": [
    "## Bi-variate -  Statistical and Visual Analysis"
   ]
  },
  {
   "cell_type": "markdown",
   "metadata": {},
   "source": [
    "__Plotting: overall_rating vs  reactions and potential columns(Correlation>0.7) and short_passing, long_passing, ball_control, shot_power,vision (correlation >0.4)__"
   ]
  },
  {
   "cell_type": "code",
   "execution_count": 54,
   "metadata": {},
   "outputs": [
    {
     "data": {
      "text/plain": [
       "<seaborn.axisgrid.JointGrid at 0x194acb40cc0>"
      ]
     },
     "execution_count": 54,
     "metadata": {},
     "output_type": "execute_result"
    },
    {
     "data": {
      "image/png": "[encoded data removed]",
      "text/plain": [
       "<matplotlib.figure.Figure at 0x194ac306f98>"
      ]
     },
     "metadata": {},
     "output_type": "display_data"
    }
   ],
   "source": [
    "sns.jointplot(x=player_attrib[\"reactions\"], y=player_attrib[\"overall_rating\"], kind='hex',size = 5)"
   ]
  },
  {
   "cell_type": "code",
   "execution_count": 55,
   "metadata": {},
   "outputs": [
    {
     "data": {
      "text/plain": [
       "<seaborn.axisgrid.JointGrid at 0x194ac6bc5f8>"
      ]
     },
     "execution_count": 55,
     "metadata": {},
     "output_type": "execute_result"
    },
    {
     "data": {
      "image/png": "[encoded data removed]",
      "text/plain": [
       "<matplotlib.figure.Figure at 0x194ac2ad470>"
      ]
     },
     "metadata": {},
     "output_type": "display_data"
    }
   ],
   "source": [
    "sns.jointplot(x=player_attrib[\"potential\"], y=player_attrib[\"overall_rating\"], kind='hex',size = 5)"
   ]
  },
  {
   "cell_type": "code",
   "execution_count": 56,
   "metadata": {},
   "outputs": [
    {
     "data": {
      "text/plain": [
       "<seaborn.axisgrid.JointGrid at 0x194abd89d68>"
      ]
     },
     "execution_count": 56,
     "metadata": {},
     "output_type": "execute_result"
    },
    {
     "data": {
      "image/png": "[encoded data removed]",
      "text/plain": [
       "<matplotlib.figure.Figure at 0x194ac20fe80>"
      ]
     },
     "metadata": {},
     "output_type": "display_data"
    }
   ],
   "source": [
    "sns.jointplot(x=player_attrib[\"short_passing\"], y=player_attrib[\"overall_rating\"], kind='hex',size = 5)"
   ]
  },
  {
   "cell_type": "code",
   "execution_count": 51,
   "metadata": {},
   "outputs": [
    {
     "data": {
      "text/plain": [
       "<seaborn.axisgrid.JointGrid at 0x1e160e6c390>"
      ]
     },
     "execution_count": 51,
     "metadata": {},
     "output_type": "execute_result"
    },
    {
     "data": {
      "image/png": "[encoded data removed]",
      "text/plain": [
       "<matplotlib.figure.Figure at 0x1e15f7c3240>"
      ]
     },
     "metadata": {},
     "output_type": "display_data"
    }
   ],
   "source": [
    "sns.jointplot(x=player_attrib[\"long_passing\"], y=player_attrib[\"overall_rating\"], kind='hex',size = 7)"
   ]
  },
  {
   "cell_type": "markdown",
   "metadata": {},
   "source": [
    "# Feature Engineering - Preparing Data for Modeling"
   ]
  },
  {
   "cell_type": "markdown",
   "metadata": {},
   "source": [
    "## Preparing the input vector X\n"
   ]
  },
  {
   "cell_type": "code",
   "execution_count": 60,
   "metadata": {},
   "outputs": [
    {
     "data": {
      "text/plain": [
       "((180354, 41),\n",
       " Index(['id', 'player_fifa_api_id', 'player_api_id', 'date', 'potential',\n",
       "        'preferred_foot', 'attacking_work_rate', 'defensive_work_rate',\n",
       "        'crossing', 'finishing', 'heading_accuracy', 'short_passing', 'volleys',\n",
       "        'dribbling', 'curve', 'free_kick_accuracy', 'long_passing',\n",
       "        'ball_control', 'acceleration', 'sprint_speed', 'agility', 'reactions',\n",
       "        'balance', 'shot_power', 'jumping', 'stamina', 'strength', 'long_shots',\n",
       "        'aggression', 'interceptions', 'positioning', 'vision', 'penalties',\n",
       "        'marking', 'standing_tackle', 'sliding_tackle', 'gk_diving',\n",
       "        'gk_handling', 'gk_kicking', 'gk_positioning', 'gk_reflexes'],\n",
       "       dtype='object'))"
      ]
     },
     "execution_count": 60,
     "metadata": {},
     "output_type": "execute_result"
    }
   ],
   "source": [
    "X = player_attrib.drop(\"overall_rating\",axis = 1)\n",
    "X.shape, X.columns"
   ]
  },
  {
   "cell_type": "markdown",
   "metadata": {},
   "source": [
    "## Dropping the various ids in the dataset as they do not contribute to the regression model\n"
   ]
  },
  {
   "cell_type": "code",
   "execution_count": 61,
   "metadata": {},
   "outputs": [],
   "source": [
    "X.drop(\"id\",axis = 1, inplace = True)\n",
    "X.drop(\"player_fifa_api_id\",axis = 1, inplace = True)\n",
    "X.drop(\"player_api_id\",axis = 1, inplace = True)"
   ]
  },
  {
   "cell_type": "markdown",
   "metadata": {},
   "source": [
    "## Modifying the date column in the input vector\n"
   ]
  },
  {
   "cell_type": "code",
   "execution_count": 62,
   "metadata": {},
   "outputs": [],
   "source": [
    "X['year'] = pd.DatetimeIndex(X.date).year\n",
    "X['month'] = pd.DatetimeIndex(X.date).month\n",
    "X['day'] = pd.DatetimeIndex(X.date).day\n",
    "X.drop('date',axis=1, inplace=True)"
   ]
  },
  {
   "cell_type": "markdown",
   "metadata": {},
   "source": [
    "## Selecting columns for label encoding and encoding them"
   ]
  },
  {
   "cell_type": "code",
   "execution_count": 63,
   "metadata": {},
   "outputs": [
    {
     "data": {
      "text/plain": [
       "['preferred_foot', 'attacking_work_rate', 'defensive_work_rate']"
      ]
     },
     "execution_count": 63,
     "metadata": {},
     "output_type": "execute_result"
    }
   ],
   "source": [
    "X_cat_cols = X.select_dtypes(include='object').columns.tolist()\n",
    "X_cat_cols"
   ]
  },
  {
   "cell_type": "code",
   "execution_count": 64,
   "metadata": {},
   "outputs": [],
   "source": [
    "# LabelEncoding the preferred_foot, attacking_work_rate, defensive_work_rate\n",
    "from sklearn.preprocessing import LabelEncoder\n",
    "for i in X_cat_cols:\n",
    "    lbl_enc = LabelEncoder()\n",
    "    X[i] = lbl_enc.fit_transform(X[i])"
   ]
  },
  {
   "cell_type": "code",
   "execution_count": 65,
   "metadata": {},
   "outputs": [
    {
     "data": {
      "text/plain": [
       "(Index(['potential', 'preferred_foot', 'attacking_work_rate',\n",
       "        'defensive_work_rate', 'crossing', 'finishing', 'heading_accuracy',\n",
       "        'short_passing', 'volleys', 'dribbling', 'curve', 'free_kick_accuracy',\n",
       "        'long_passing', 'ball_control', 'acceleration', 'sprint_speed',\n",
       "        'agility', 'reactions', 'balance', 'shot_power', 'jumping', 'stamina',\n",
       "        'strength', 'long_shots', 'aggression', 'interceptions', 'positioning',\n",
       "        'vision', 'penalties', 'marking', 'standing_tackle', 'sliding_tackle',\n",
       "        'gk_diving', 'gk_handling', 'gk_kicking', 'gk_positioning',\n",
       "        'gk_reflexes', 'year', 'month', 'day'],\n",
       "       dtype='object'), (180354, 40))"
      ]
     },
     "execution_count": 65,
     "metadata": {},
     "output_type": "execute_result"
    }
   ],
   "source": [
    "# Checking the columns and the shape of the input vector after encoding\n",
    "X.columns, X.shape"
   ]
  },
  {
   "cell_type": "code",
   "execution_count": 66,
   "metadata": {},
   "outputs": [
    {
     "data": {
      "text/html": [
       "<div>\n",
       "<style scoped>\n",
       "    .dataframe tbody tr th:only-of-type {\n",
       "        vertical-align: middle;\n",
       "    }\n",
       "\n",
       "    .dataframe tbody tr th {\n",
       "        vertical-align: top;\n",
       "    }\n",
       "\n",
       "    .dataframe thead th {\n",
       "        text-align: right;\n",
       "    }\n",
       "</style>\n",
       "<table border=\"1\" class=\"dataframe\">\n",
       "  <thead>\n",
       "    <tr style=\"text-align: right;\">\n",
       "      <th></th>\n",
       "      <th>potential</th>\n",
       "      <th>preferred_foot</th>\n",
       "      <th>attacking_work_rate</th>\n",
       "      <th>defensive_work_rate</th>\n",
       "      <th>crossing</th>\n",
       "      <th>finishing</th>\n",
       "      <th>heading_accuracy</th>\n",
       "      <th>short_passing</th>\n",
       "      <th>volleys</th>\n",
       "      <th>dribbling</th>\n",
       "      <th>...</th>\n",
       "      <th>standing_tackle</th>\n",
       "      <th>sliding_tackle</th>\n",
       "      <th>gk_diving</th>\n",
       "      <th>gk_handling</th>\n",
       "      <th>gk_kicking</th>\n",
       "      <th>gk_positioning</th>\n",
       "      <th>gk_reflexes</th>\n",
       "      <th>year</th>\n",
       "      <th>month</th>\n",
       "      <th>day</th>\n",
       "    </tr>\n",
       "  </thead>\n",
       "  <tbody>\n",
       "    <tr>\n",
       "      <th>0</th>\n",
       "      <td>71.0</td>\n",
       "      <td>1</td>\n",
       "      <td>2</td>\n",
       "      <td>2</td>\n",
       "      <td>49.0</td>\n",
       "      <td>44.0</td>\n",
       "      <td>71.0</td>\n",
       "      <td>61.0</td>\n",
       "      <td>44.0</td>\n",
       "      <td>51.0</td>\n",
       "      <td>...</td>\n",
       "      <td>69.0</td>\n",
       "      <td>69.0</td>\n",
       "      <td>6.0</td>\n",
       "      <td>11.0</td>\n",
       "      <td>10.0</td>\n",
       "      <td>8.0</td>\n",
       "      <td>8.0</td>\n",
       "      <td>2016</td>\n",
       "      <td>2</td>\n",
       "      <td>18</td>\n",
       "    </tr>\n",
       "    <tr>\n",
       "      <th>1</th>\n",
       "      <td>71.0</td>\n",
       "      <td>1</td>\n",
       "      <td>2</td>\n",
       "      <td>2</td>\n",
       "      <td>49.0</td>\n",
       "      <td>44.0</td>\n",
       "      <td>71.0</td>\n",
       "      <td>61.0</td>\n",
       "      <td>44.0</td>\n",
       "      <td>51.0</td>\n",
       "      <td>...</td>\n",
       "      <td>69.0</td>\n",
       "      <td>69.0</td>\n",
       "      <td>6.0</td>\n",
       "      <td>11.0</td>\n",
       "      <td>10.0</td>\n",
       "      <td>8.0</td>\n",
       "      <td>8.0</td>\n",
       "      <td>2015</td>\n",
       "      <td>11</td>\n",
       "      <td>19</td>\n",
       "    </tr>\n",
       "    <tr>\n",
       "      <th>2</th>\n",
       "      <td>66.0</td>\n",
       "      <td>1</td>\n",
       "      <td>2</td>\n",
       "      <td>2</td>\n",
       "      <td>49.0</td>\n",
       "      <td>44.0</td>\n",
       "      <td>71.0</td>\n",
       "      <td>61.0</td>\n",
       "      <td>44.0</td>\n",
       "      <td>51.0</td>\n",
       "      <td>...</td>\n",
       "      <td>66.0</td>\n",
       "      <td>69.0</td>\n",
       "      <td>6.0</td>\n",
       "      <td>11.0</td>\n",
       "      <td>10.0</td>\n",
       "      <td>8.0</td>\n",
       "      <td>8.0</td>\n",
       "      <td>2015</td>\n",
       "      <td>9</td>\n",
       "      <td>21</td>\n",
       "    </tr>\n",
       "    <tr>\n",
       "      <th>3</th>\n",
       "      <td>65.0</td>\n",
       "      <td>1</td>\n",
       "      <td>2</td>\n",
       "      <td>2</td>\n",
       "      <td>48.0</td>\n",
       "      <td>43.0</td>\n",
       "      <td>70.0</td>\n",
       "      <td>60.0</td>\n",
       "      <td>43.0</td>\n",
       "      <td>50.0</td>\n",
       "      <td>...</td>\n",
       "      <td>63.0</td>\n",
       "      <td>66.0</td>\n",
       "      <td>5.0</td>\n",
       "      <td>10.0</td>\n",
       "      <td>9.0</td>\n",
       "      <td>7.0</td>\n",
       "      <td>7.0</td>\n",
       "      <td>2015</td>\n",
       "      <td>3</td>\n",
       "      <td>20</td>\n",
       "    </tr>\n",
       "    <tr>\n",
       "      <th>4</th>\n",
       "      <td>65.0</td>\n",
       "      <td>1</td>\n",
       "      <td>2</td>\n",
       "      <td>2</td>\n",
       "      <td>48.0</td>\n",
       "      <td>43.0</td>\n",
       "      <td>70.0</td>\n",
       "      <td>60.0</td>\n",
       "      <td>43.0</td>\n",
       "      <td>50.0</td>\n",
       "      <td>...</td>\n",
       "      <td>63.0</td>\n",
       "      <td>66.0</td>\n",
       "      <td>5.0</td>\n",
       "      <td>10.0</td>\n",
       "      <td>9.0</td>\n",
       "      <td>7.0</td>\n",
       "      <td>7.0</td>\n",
       "      <td>2007</td>\n",
       "      <td>2</td>\n",
       "      <td>22</td>\n",
       "    </tr>\n",
       "  </tbody>\n",
       "</table>\n",
       "<p>5 rows × 40 columns</p>\n",
       "</div>"
      ],
      "text/plain": [
       "   potential  preferred_foot  attacking_work_rate  defensive_work_rate  \\\n",
       "0       71.0               1                    2                    2   \n",
       "1       71.0               1                    2                    2   \n",
       "2       66.0               1                    2                    2   \n",
       "3       65.0               1                    2                    2   \n",
       "4       65.0               1                    2                    2   \n",
       "\n",
       "   crossing  finishing  heading_accuracy  short_passing  volleys  dribbling  \\\n",
       "0      49.0       44.0              71.0           61.0     44.0       51.0   \n",
       "1      49.0       44.0              71.0           61.0     44.0       51.0   \n",
       "2      49.0       44.0              71.0           61.0     44.0       51.0   \n",
       "3      48.0       43.0              70.0           60.0     43.0       50.0   \n",
       "4      48.0       43.0              70.0           60.0     43.0       50.0   \n",
       "\n",
       "  ...   standing_tackle  sliding_tackle  gk_diving  gk_handling  gk_kicking  \\\n",
       "0 ...              69.0            69.0        6.0         11.0        10.0   \n",
       "1 ...              69.0            69.0        6.0         11.0        10.0   \n",
       "2 ...              66.0            69.0        6.0         11.0        10.0   \n",
       "3 ...              63.0            66.0        5.0         10.0         9.0   \n",
       "4 ...              63.0            66.0        5.0         10.0         9.0   \n",
       "\n",
       "   gk_positioning  gk_reflexes  year  month  day  \n",
       "0             8.0          8.0  2016      2   18  \n",
       "1             8.0          8.0  2015     11   19  \n",
       "2             8.0          8.0  2015      9   21  \n",
       "3             7.0          7.0  2015      3   20  \n",
       "4             7.0          7.0  2007      2   22  \n",
       "\n",
       "[5 rows x 40 columns]"
      ]
     },
     "execution_count": 66,
     "metadata": {},
     "output_type": "execute_result"
    }
   ],
   "source": [
    "X.head()"
   ]
  },
  {
   "cell_type": "markdown",
   "metadata": {},
   "source": [
    "## Preparing the Output Y"
   ]
  },
  {
   "cell_type": "code",
   "execution_count": 67,
   "metadata": {
    "code_folding": []
   },
   "outputs": [
    {
     "data": {
      "text/plain": [
       "(180354,)"
      ]
     },
     "execution_count": 67,
     "metadata": {},
     "output_type": "execute_result"
    }
   ],
   "source": [
    "Y = player_attrib[\"overall_rating\"]\n",
    "Y.shape"
   ]
  },
  {
   "cell_type": "code",
   "execution_count": 68,
   "metadata": {},
   "outputs": [
    {
     "data": {
      "text/plain": [
       "0    67.0\n",
       "1    67.0\n",
       "2    62.0\n",
       "3    61.0\n",
       "4    61.0\n",
       "Name: overall_rating, dtype: float64"
      ]
     },
     "execution_count": 68,
     "metadata": {},
     "output_type": "execute_result"
    }
   ],
   "source": [
    "Y.head()"
   ]
  },
  {
   "cell_type": "markdown",
   "metadata": {},
   "source": [
    "# Splitting the data into Train and Test"
   ]
  },
  {
   "cell_type": "code",
   "execution_count": 69,
   "metadata": {},
   "outputs": [],
   "source": [
    "x_train, x_test, y_train, y_test = train_test_split(X,Y,test_size=0.25, random_state = 100)"
   ]
  },
  {
   "cell_type": "markdown",
   "metadata": {},
   "source": [
    "# Fitting the models and collecting the metrics"
   ]
  },
  {
   "cell_type": "markdown",
   "metadata": {},
   "source": [
    "## Linear Regression"
   ]
  },
  {
   "cell_type": "code",
   "execution_count": 70,
   "metadata": {},
   "outputs": [
    {
     "name": "stdout",
     "output_type": "stream",
     "text": [
      "Linear Regression - RMSE Train: 2.7309026846988043\n",
      "Linear Regression - RMSE Test: 2.730777350395378\n",
      "Linear Regression - R2_score Train: 0.8216028424294087\n",
      "Linear Regression - R2_score Test: 0.8219679620041507\n"
     ]
    }
   ],
   "source": [
    "lm  = LinearRegression()\n",
    "model  = lm.fit(x_train,y_train)\n",
    "y_train_pred = model.predict(x_train)\n",
    "y_test_pred = model.predict(x_test)\n",
    "    \n",
    "print('Linear Regression -', 'RMSE Train:', math.sqrt(mean_squared_error(y_train_pred, y_train)))\n",
    "print('Linear Regression -', 'RMSE Test:' ,math.sqrt(mean_squared_error(y_test_pred, y_test)))  \n",
    "print('Linear Regression -', 'R2_score Train:', r2_score(y_train_pred, y_train))\n",
    "print('Linear Regression -', 'R2_score Test:' ,r2_score(y_test_pred, y_test))  "
   ]
  },
  {
   "cell_type": "markdown",
   "metadata": {},
   "source": [
    "## Other Regressors"
   ]
  },
  {
   "cell_type": "code",
   "execution_count": 71,
   "metadata": {},
   "outputs": [],
   "source": [
    "regressors = [\n",
    "            (\"Linear - \", LinearRegression(normalize=True)),\n",
    "            (\"Ridge - \",  Ridge(alpha=0.5, normalize=True)),\n",
    "            (\"Lasso - \",  Lasso(alpha=0.5, normalize=True)),\n",
    "            (\"ElasticNet - \",  ElasticNet(alpha=0.5, l1_ratio=0.5, normalize=True)),\n",
    "            (\"Decision Tree - \",  DecisionTreeRegressor(max_depth=5)),\n",
    "            (\"Random Forest - \",  RandomForestRegressor(n_estimators=100)),\n",
    "            (\"AdaBoost - \",  AdaBoostRegressor(n_estimators=100)),\n",
    "            (\"GBM - \", GradientBoostingRegressor(n_estimators=100))]"
   ]
  },
  {
   "cell_type": "code",
   "execution_count": 72,
   "metadata": {},
   "outputs": [
    {
     "name": "stdout",
     "output_type": "stream",
     "text": [
      "Linear -  \n",
      "\t R2-Score: 0.8501969196523183 \n",
      "\t RMSE: 2.73077735039538 \n",
      "\n",
      "Ridge -  \n",
      "\t R2-Score: 0.8094085593573674 \n",
      "\t RMSE: 3.080190780589965 \n",
      "\n",
      "Lasso -  \n",
      "\t R2-Score: -4.220879563199276e-06 \n",
      "\t RMSE: 7.0554844132901415 \n",
      "\n",
      "ElasticNet -  \n",
      "\t R2-Score: -4.220879563199276e-06 \n",
      "\t RMSE: 7.0554844132901415 \n",
      "\n",
      "Decision Tree -  \n",
      "\t R2-Score: 0.7786783353651396 \n",
      "\t RMSE: 3.3192341052560117 \n",
      "\n",
      "Random Forest -  \n",
      "\t R2-Score: 0.9824041194635779 \n",
      "\t RMSE: 0.9359042568169555 \n",
      "\n",
      "AdaBoost -  \n",
      "\t R2-Score: 0.8186531942844436 \n",
      "\t RMSE: 3.004559959795495 \n",
      "\n",
      "GBM -  \n",
      "\t R2-Score: 0.9380248854563253 \n",
      "\t RMSE: 1.7564451379448531 \n",
      "\n"
     ]
    }
   ],
   "source": [
    "for reg in regressors:\n",
    "    reg[1].fit(x_train, y_train)\n",
    "    y_test_pred= reg[1].predict(x_test)\n",
    "    print(reg[0],\"\\n\\t R2-Score:\", reg[1].score(x_test, y_test),\n",
    "                 \"\\n\\t RMSE:\", math.sqrt(mean_squared_error(y_test_pred, y_test)),\"\\n\")"
   ]
  },
  {
   "cell_type": "markdown",
   "metadata": {},
   "source": [
    "# Feature Selection"
   ]
  },
  {
   "cell_type": "markdown",
   "metadata": {
    "code_folding": []
   },
   "source": [
    "___Feature Selection using feature importances from RandomForestRegressor model___\n"
   ]
  },
  {
   "cell_type": "code",
   "execution_count": 73,
   "metadata": {
    "code_folding": []
   },
   "outputs": [
    {
     "data": {
      "text/plain": [
       "(array([ 0,  1,  2,  3,  4,  5,  6,  7,  8,  9, 10, 11, 12, 13, 14, 15, 16,\n",
       "        17, 18, 19, 20, 21, 22, 23, 24, 25, 26, 27, 28, 29, 30, 31, 32, 33,\n",
       "        34, 35, 36, 37, 38, 39]), <a list of 40 Text xticklabel objects>)"
      ]
     },
     "execution_count": 73,
     "metadata": {},
     "output_type": "execute_result"
    },
    {
     "data": {
      "image/png": "[encoded data removed]",
      "text/plain": [
       "<matplotlib.figure.Figure at 0x194ae8268d0>"
      ]
     },
     "metadata": {},
     "output_type": "display_data"
    }
   ],
   "source": [
    "rndf = RandomForestRegressor(n_estimators=150)\n",
    "rndf.fit(x_train, y_train)\n",
    "importance = pd.DataFrame.from_dict({'cols':x_train.columns, 'importance': rndf.feature_importances_})\n",
    "importance = importance.sort_values(by='importance', ascending=False)\n",
    "plt.figure(figsize=(20,15))\n",
    "sns.barplot(importance.cols, importance.importance)\n",
    "plt.xticks(rotation=90)"
   ]
  },
  {
   "cell_type": "code",
   "execution_count": 74,
   "metadata": {},
   "outputs": [
    {
     "data": {
      "text/plain": [
       "array(['reactions', 'potential', 'ball_control', 'standing_tackle',\n",
       "       'gk_diving', 'heading_accuracy', 'gk_positioning', 'positioning',\n",
       "       'marking', 'crossing', 'gk_handling', 'strength', 'interceptions',\n",
       "       'shot_power', 'finishing', 'dribbling', 'year'], dtype=object)"
      ]
     },
     "execution_count": 74,
     "metadata": {},
     "output_type": "execute_result"
    }
   ],
   "source": [
    "imp_cols = importance[importance.importance >= 0.005].cols.values\n",
    "imp_cols"
   ]
  },
  {
   "cell_type": "code",
   "execution_count": 75,
   "metadata": {},
   "outputs": [
    {
     "name": "stdout",
     "output_type": "stream",
     "text": [
      "Linear -  \n",
      "\t R2-Score: 0.8431273415851339 \n",
      "\t RMSE: 2.783681625409858 \n",
      "\n",
      "Ridge -  \n",
      "\t R2-Score: 0.8003978321538426 \n",
      "\t RMSE: 3.1399921438596183 \n",
      "\n",
      "Lasso -  \n",
      "\t R2-Score: -1.776966378042033e-06 \n",
      "\t RMSE: 7.028235745736134 \n",
      "\n",
      "ElasticNet -  \n",
      "\t R2-Score: -1.776966378042033e-06 \n",
      "\t RMSE: 7.028235745736134 \n",
      "\n",
      "Decision Tree -  \n",
      "\t R2-Score: 0.7741592409557474 \n",
      "\t RMSE: 3.340004846504886 \n",
      "\n",
      "Random Forest -  \n",
      "\t R2-Score: 0.9653283748637406 \n",
      "\t RMSE: 1.3086786997820135 \n",
      "\n",
      "AdaBoost -  \n",
      "\t R2-Score: 0.8305763922158786 \n",
      "\t RMSE: 2.8928965089035215 \n",
      "\n",
      "GBM -  \n",
      "\t R2-Score: 0.9356063522104895 \n",
      "\t RMSE: 1.7834767352457117 \n",
      "\n"
     ]
    }
   ],
   "source": [
    "# Fitting models with columns where feature importance>=0.005\n",
    "x_train, x_test, y_train, y_test = train_test_split(X[imp_cols],Y,test_size=0.75, random_state = 100)\n",
    "for reg in regressors:\n",
    "    reg[1].fit(x_train, y_train)\n",
    "    y_test_pred= reg[1].predict(x_test)\n",
    "    print(reg[0],\"\\n\\t R2-Score:\", reg[1].score(x_test, y_test),\n",
    "                 \"\\n\\t RMSE:\", math.sqrt(mean_squared_error(y_test_pred, y_test)),\"\\n\")"
   ]
  },
  {
   "cell_type": "code",
   "execution_count": 76,
   "metadata": {},
   "outputs": [
    {
     "data": {
      "text/plain": [
       "array(['reactions', 'potential', 'ball_control', 'standing_tackle',\n",
       "       'gk_diving', 'heading_accuracy', 'gk_positioning', 'positioning',\n",
       "       'marking', 'crossing', 'gk_handling', 'strength', 'interceptions',\n",
       "       'shot_power', 'finishing', 'dribbling', 'year', 'gk_reflexes',\n",
       "       'short_passing', 'aggression', 'stamina', 'long_shots',\n",
       "       'sprint_speed', 'vision', 'long_passing', 'sliding_tackle',\n",
       "       'acceleration', 'jumping', 'penalties', 'volleys', 'gk_kicking',\n",
       "       'curve', 'balance', 'free_kick_accuracy', 'agility'], dtype=object)"
      ]
     },
     "execution_count": 76,
     "metadata": {},
     "output_type": "execute_result"
    }
   ],
   "source": [
    "imp_cols = importance[importance.importance >= 0.001].cols.values\n",
    "imp_cols"
   ]
  },
  {
   "cell_type": "code",
   "execution_count": 77,
   "metadata": {
    "scrolled": false
   },
   "outputs": [
    {
     "name": "stdout",
     "output_type": "stream",
     "text": [
      "Linear -  \n",
      "\t R2-Score: 0.8485016231507021 \n",
      "\t RMSE: 2.735583178429208 \n",
      "\n",
      "Ridge -  \n",
      "\t R2-Score: 0.8097666691702011 \n",
      "\t RMSE: 3.065414734954621 \n",
      "\n",
      "Lasso -  \n",
      "\t R2-Score: -1.776966378042033e-06 \n",
      "\t RMSE: 7.028235745736134 \n",
      "\n",
      "ElasticNet -  \n",
      "\t R2-Score: -1.776966378042033e-06 \n",
      "\t RMSE: 7.028235745736134 \n",
      "\n",
      "Decision Tree -  \n",
      "\t R2-Score: 0.7741592409557474 \n",
      "\t RMSE: 3.340004846504886 \n",
      "\n",
      "Random Forest -  \n",
      "\t R2-Score: 0.9680321135002367 \n",
      "\t RMSE: 1.256616902141094 \n",
      "\n",
      "AdaBoost -  \n",
      "\t R2-Score: 0.8387281543247305 \n",
      "\t RMSE: 2.8224432127521553 \n",
      "\n",
      "GBM -  \n",
      "\t R2-Score: 0.9385145861893729 \n",
      "\t RMSE: 1.7427375335042703 \n",
      "\n"
     ]
    }
   ],
   "source": [
    "# Fitting models with columns where feature importance>=0.001\n",
    "x_train, x_test, y_train, y_test = train_test_split(X[imp_cols],Y,test_size=0.75, random_state = 100)\n",
    "for reg in regressors:\n",
    "    reg[1].fit(x_train, y_train)\n",
    "    y_test_pred= reg[1].predict(x_test)\n",
    "    print(reg[0],\"\\n\\t R2-Score:\", reg[1].score(x_test, y_test),\n",
    "                 \"\\n\\t RMSE:\", math.sqrt(mean_squared_error(y_test_pred, y_test)),\"\\n\")"
   ]
  },
  {
   "cell_type": "markdown",
   "metadata": {},
   "source": [
    "___RandomForest and GBM provide us with the best RMSE and R2-Score when selecting columns with feature importance >= 0.001___"
   ]
  },
  {
   "cell_type": "markdown",
   "metadata": {},
   "source": [
    "# Validation of the Models"
   ]
  },
  {
   "cell_type": "markdown",
   "metadata": {},
   "source": [
    "___Validating our models using K-Fold Cross Validation for Robustness___"
   ]
  },
  {
   "cell_type": "code",
   "execution_count": 78,
   "metadata": {},
   "outputs": [
    {
     "name": "stdout",
     "output_type": "stream",
     "text": [
      "Linear -  \n",
      "\t CV-Mean: -7.577425402593292 \n",
      "\t CV-Std. Dev: 0.1881652662073941 \n",
      "\n",
      "Ridge -  \n",
      "\t CV-Mean: -9.527694490104617 \n",
      "\t CV-Std. Dev: 0.3104263221463401 \n",
      "\n",
      "Lasso -  \n",
      "\t CV-Mean: -49.38186544635581 \n",
      "\t CV-Std. Dev: 1.092422030903323 \n",
      "\n",
      "ElasticNet -  \n",
      "\t CV-Mean: -49.38186544635581 \n",
      "\t CV-Std. Dev: 1.092422030903323 \n",
      "\n",
      "Decision Tree -  \n",
      "\t CV-Mean: -11.465003716652667 \n",
      "\t CV-Std. Dev: 0.34653675521956645 \n",
      "\n",
      "Random Forest -  \n",
      "\t CV-Mean: -1.717148459139164 \n",
      "\t CV-Std. Dev: 0.10152873437301052 \n",
      "\n",
      "AdaBoost -  \n",
      "\t CV-Mean: -7.988006847478836 \n",
      "\t CV-Std. Dev: 0.3337065566539398 \n",
      "\n",
      "GBM -  \n",
      "\t CV-Mean: -3.1420739651710514 \n",
      "\t CV-Std. Dev: 0.1394835771508512 \n",
      "\n"
     ]
    }
   ],
   "source": [
    "scoring = 'neg_mean_squared_error'\n",
    "results=[]\n",
    "names=[]\n",
    "for modelname, model in regressors:\n",
    "    kfold = KFold(n_splits=10, random_state=7)\n",
    "    cv_results = cross_val_score(model, x_train,y_train, cv=kfold, scoring=scoring)\n",
    "    results.append(cv_results)\n",
    "    names.append(modelname)\n",
    "    print(modelname,\"\\n\\t CV-Mean:\", cv_results.mean(),\n",
    "                    \"\\n\\t CV-Std. Dev:\",  cv_results.std(),\"\\n\")"
   ]
  },
  {
   "cell_type": "markdown",
   "metadata": {},
   "source": [
    "___RandomForest and GBM provide us with the best validation score, both w.r.t. CV-Mean and CV-Std. Dev___"
   ]
  },
  {
   "cell_type": "markdown",
   "metadata": {},
   "source": [
    "__Therefore we choose these two models to optimize. We do this by finding best hyper-parameter values which give us even better R2-Score and RMSE values__"
   ]
  },
  {
   "cell_type": "markdown",
   "metadata": {},
   "source": [
    "# Tuning Model for better Performance -- Hyper-Parameter Optimization"
   ]
  },
  {
   "cell_type": "markdown",
   "metadata": {},
   "source": [
    "***Tuning the RandomForestRegressor, GradientBoostingRegressor Hyper-Parameters using GridSearchCV***"
   ]
  },
  {
   "cell_type": "code",
   "execution_count": 79,
   "metadata": {},
   "outputs": [
    {
     "data": {
      "text/plain": [
       "[('Linear - ',\n",
       "  LinearRegression(copy_X=True, fit_intercept=True, n_jobs=1, normalize=True)),\n",
       " ('Ridge - ', Ridge(alpha=0.5, copy_X=True, fit_intercept=True, max_iter=None,\n",
       "     normalize=True, random_state=None, solver='auto', tol=0.001)),\n",
       " ('Lasso - ', Lasso(alpha=0.5, copy_X=True, fit_intercept=True, max_iter=1000,\n",
       "     normalize=True, positive=False, precompute=False, random_state=None,\n",
       "     selection='cyclic', tol=0.0001, warm_start=False)),\n",
       " ('ElasticNet - ',\n",
       "  ElasticNet(alpha=0.5, copy_X=True, fit_intercept=True, l1_ratio=0.5,\n",
       "        max_iter=1000, normalize=True, positive=False, precompute=False,\n",
       "        random_state=None, selection='cyclic', tol=0.0001, warm_start=False)),\n",
       " ('Decision Tree - ',\n",
       "  DecisionTreeRegressor(criterion='mse', max_depth=5, max_features=None,\n",
       "             max_leaf_nodes=None, min_impurity_decrease=0.0,\n",
       "             min_impurity_split=None, min_samples_leaf=1,\n",
       "             min_samples_split=2, min_weight_fraction_leaf=0.0,\n",
       "             presort=False, random_state=None, splitter='best')),\n",
       " ('Random Forest - ',\n",
       "  RandomForestRegressor(bootstrap=True, criterion='mse', max_depth=None,\n",
       "             max_features='auto', max_leaf_nodes=None,\n",
       "             min_impurity_decrease=0.0, min_impurity_split=None,\n",
       "             min_samples_leaf=1, min_samples_split=2,\n",
       "             min_weight_fraction_leaf=0.0, n_estimators=100, n_jobs=1,\n",
       "             oob_score=False, random_state=None, verbose=0, warm_start=False)),\n",
       " ('AdaBoost - ',\n",
       "  AdaBoostRegressor(base_estimator=None, learning_rate=1.0, loss='linear',\n",
       "           n_estimators=100, random_state=None)),\n",
       " ('GBM - ',\n",
       "  GradientBoostingRegressor(alpha=0.9, criterion='friedman_mse', init=None,\n",
       "               learning_rate=0.1, loss='ls', max_depth=3, max_features=None,\n",
       "               max_leaf_nodes=None, min_impurity_decrease=0.0,\n",
       "               min_impurity_split=None, min_samples_leaf=1,\n",
       "               min_samples_split=2, min_weight_fraction_leaf=0.0,\n",
       "               n_estimators=100, presort='auto', random_state=None,\n",
       "               subsample=1.0, verbose=0, warm_start=False))]"
      ]
     },
     "execution_count": 79,
     "metadata": {},
     "output_type": "execute_result"
    }
   ],
   "source": [
    "regressors"
   ]
  },
  {
   "cell_type": "markdown",
   "metadata": {},
   "source": [
    "***Warning: Running the following optimization algorithms takes very long to complete.***"
   ]
  },
  {
   "cell_type": "markdown",
   "metadata": {},
   "source": [
    "## Random Forest Regressor"
   ]
  },
  {
   "cell_type": "code",
   "execution_count": 80,
   "metadata": {},
   "outputs": [],
   "source": [
    "RF_Regressor =  RandomForestRegressor(n_estimators=100, n_jobs = -1, random_state = 100)\n",
    "\n",
    "CV = ShuffleSplit(test_size=0.25, random_state=100)\n",
    "\n",
    "param_grid = {\"max_depth\": [5, None],\n",
    "              \"n_estimators\": [50, 100, 150, 200],\n",
    "              \"min_samples_split\": [2, 4, 5],\n",
    "              \"min_samples_leaf\": [2, 4, 6]\n",
    "             }"
   ]
  },
  {
   "cell_type": "code",
   "execution_count": 81,
   "metadata": {},
   "outputs": [],
   "source": [
    "rscv_grid = GridSearchCV(RF_Regressor, param_grid=param_grid, verbose=1)"
   ]
  },
  {
   "cell_type": "code",
   "execution_count": 82,
   "metadata": {},
   "outputs": [
    {
     "name": "stdout",
     "output_type": "stream",
     "text": [
      "Fitting 3 folds for each of 72 candidates, totalling 216 fits\n"
     ]
    },
    {
     "name": "stderr",
     "output_type": "stream",
     "text": [
      "[Parallel(n_jobs=1)]: Done 216 out of 216 | elapsed: 54.7min finished\n"
     ]
    },
    {
     "data": {
      "text/plain": [
       "GridSearchCV(cv=None, error_score='raise',\n",
       "       estimator=RandomForestRegressor(bootstrap=True, criterion='mse', max_depth=None,\n",
       "           max_features='auto', max_leaf_nodes=None,\n",
       "           min_impurity_decrease=0.0, min_impurity_split=None,\n",
       "           min_samples_leaf=1, min_samples_split=2,\n",
       "           min_weight_fraction_leaf=0.0, n_estimators=100, n_jobs=-1,\n",
       "           oob_score=False, random_state=100, verbose=0, warm_start=False),\n",
       "       fit_params=None, iid=True, n_jobs=1,\n",
       "       param_grid={'max_depth': [5, None], 'n_estimators': [50, 100, 150, 200], 'min_samples_split': [2, 4, 5], 'min_samples_leaf': [2, 4, 6]},\n",
       "       pre_dispatch='2*n_jobs', refit=True, return_train_score='warn',\n",
       "       scoring=None, verbose=1)"
      ]
     },
     "execution_count": 82,
     "metadata": {},
     "output_type": "execute_result"
    }
   ],
   "source": [
    "rscv_grid.fit(x_train, y_train)"
   ]
  },
  {
   "cell_type": "code",
   "execution_count": 83,
   "metadata": {},
   "outputs": [
    {
     "data": {
      "text/plain": [
       "{'max_depth': None,\n",
       " 'min_samples_leaf': 2,\n",
       " 'min_samples_split': 2,\n",
       " 'n_estimators': 200}"
      ]
     },
     "execution_count": 83,
     "metadata": {},
     "output_type": "execute_result"
    }
   ],
   "source": [
    "rscv_grid.best_params_"
   ]
  },
  {
   "cell_type": "code",
   "execution_count": 84,
   "metadata": {},
   "outputs": [
    {
     "data": {
      "text/plain": [
       "RandomForestRegressor(bootstrap=True, criterion='mse', max_depth=None,\n",
       "           max_features='auto', max_leaf_nodes=None,\n",
       "           min_impurity_decrease=0.0, min_impurity_split=None,\n",
       "           min_samples_leaf=2, min_samples_split=2,\n",
       "           min_weight_fraction_leaf=0.0, n_estimators=200, n_jobs=-1,\n",
       "           oob_score=False, random_state=100, verbose=0, warm_start=False)"
      ]
     },
     "execution_count": 84,
     "metadata": {},
     "output_type": "execute_result"
    }
   ],
   "source": [
    "model = rscv_grid.best_estimator_\n",
    "model.fit(x_train, y_train)"
   ]
  },
  {
   "cell_type": "code",
   "execution_count": 85,
   "metadata": {},
   "outputs": [
    {
     "data": {
      "text/plain": [
       "0.9677172492931098"
      ]
     },
     "execution_count": 85,
     "metadata": {},
     "output_type": "execute_result"
    }
   ],
   "source": [
    "model.score(x_test, y_test)"
   ]
  },
  {
   "cell_type": "code",
   "execution_count": 86,
   "metadata": {},
   "outputs": [],
   "source": [
    "RF_reg = pickle.dumps(rscv_grid)"
   ]
  },
  {
   "cell_type": "markdown",
   "metadata": {},
   "source": [
    "## Gradient Boosting Regressor"
   ]
  },
  {
   "cell_type": "code",
   "execution_count": 87,
   "metadata": {},
   "outputs": [],
   "source": [
    "GB_Regressor =  GradientBoostingRegressor(n_estimators=100)\n",
    "\n",
    "CV = ShuffleSplit(test_size=0.25, random_state=100)\n",
    "\n",
    "param_grid = {'max_depth': [5, 7, 9],\n",
    "              'learning_rate': [0.1, 0.3, 0.5]\n",
    "             }"
   ]
  },
  {
   "cell_type": "code",
   "execution_count": 88,
   "metadata": {},
   "outputs": [],
   "source": [
    "rscv_grid = GridSearchCV(GB_Regressor, param_grid=param_grid, verbose=1)"
   ]
  },
  {
   "cell_type": "code",
   "execution_count": 89,
   "metadata": {},
   "outputs": [
    {
     "name": "stdout",
     "output_type": "stream",
     "text": [
      "Fitting 3 folds for each of 9 candidates, totalling 27 fits\n"
     ]
    },
    {
     "name": "stderr",
     "output_type": "stream",
     "text": [
      "[Parallel(n_jobs=1)]: Done  27 out of  27 | elapsed: 15.6min finished\n"
     ]
    },
    {
     "data": {
      "text/plain": [
       "GridSearchCV(cv=None, error_score='raise',\n",
       "       estimator=GradientBoostingRegressor(alpha=0.9, criterion='friedman_mse', init=None,\n",
       "             learning_rate=0.1, loss='ls', max_depth=3, max_features=None,\n",
       "             max_leaf_nodes=None, min_impurity_decrease=0.0,\n",
       "             min_impurity_split=None, min_samples_leaf=1,\n",
       "             min_samples_split=2, min_weight_fraction_leaf=0.0,\n",
       "             n_estimators=100, presort='auto', random_state=None,\n",
       "             subsample=1.0, verbose=0, warm_start=False),\n",
       "       fit_params=None, iid=True, n_jobs=1,\n",
       "       param_grid={'max_depth': [5, 7, 9], 'learning_rate': [0.1, 0.3, 0.5]},\n",
       "       pre_dispatch='2*n_jobs', refit=True, return_train_score='warn',\n",
       "       scoring=None, verbose=1)"
      ]
     },
     "execution_count": 89,
     "metadata": {},
     "output_type": "execute_result"
    }
   ],
   "source": [
    "rscv_grid.fit(x_train, y_train)"
   ]
  },
  {
   "cell_type": "code",
   "execution_count": 90,
   "metadata": {},
   "outputs": [
    {
     "data": {
      "text/plain": [
       "{'learning_rate': 0.1, 'max_depth': 9}"
      ]
     },
     "execution_count": 90,
     "metadata": {},
     "output_type": "execute_result"
    }
   ],
   "source": [
    "rscv_grid.best_params_"
   ]
  },
  {
   "cell_type": "code",
   "execution_count": 91,
   "metadata": {},
   "outputs": [
    {
     "data": {
      "text/plain": [
       "GradientBoostingRegressor(alpha=0.9, criterion='friedman_mse', init=None,\n",
       "             learning_rate=0.1, loss='ls', max_depth=9, max_features=None,\n",
       "             max_leaf_nodes=None, min_impurity_decrease=0.0,\n",
       "             min_impurity_split=None, min_samples_leaf=1,\n",
       "             min_samples_split=2, min_weight_fraction_leaf=0.0,\n",
       "             n_estimators=100, presort='auto', random_state=None,\n",
       "             subsample=1.0, verbose=0, warm_start=False)"
      ]
     },
     "execution_count": 91,
     "metadata": {},
     "output_type": "execute_result"
    }
   ],
   "source": [
    "model = rscv_grid.best_estimator_\n",
    "model.fit(x_train, y_train)"
   ]
  },
  {
   "cell_type": "code",
   "execution_count": 91,
   "metadata": {},
   "outputs": [
    {
     "data": {
      "text/plain": [
       "0.9738262886317136"
      ]
     },
     "execution_count": 91,
     "metadata": {},
     "output_type": "execute_result"
    }
   ],
   "source": [
    "model.score(x_test, y_test)"
   ]
  },
  {
   "cell_type": "code",
   "execution_count": 92,
   "metadata": {},
   "outputs": [],
   "source": [
    "GB_reg = pickle.dumps(rscv_grid)"
   ]
  },
  {
   "cell_type": "markdown",
   "metadata": {},
   "source": [
    "# Comparing performance metric of the different models"
   ]
  },
  {
   "cell_type": "code",
   "execution_count": 93,
   "metadata": {},
   "outputs": [],
   "source": [
    "RF_regressor = pickle.loads(RF_reg)\n",
    "GB_regressor = pickle.loads(GB_reg)"
   ]
  },
  {
   "cell_type": "code",
   "execution_count": 95,
   "metadata": {},
   "outputs": [
    {
     "name": "stdout",
     "output_type": "stream",
     "text": [
      "RandomForestRegressor - \n",
      "\t R2-Score: 0.9677101265725686 \n",
      "\t RMSE: 1.2629294945564922 \n",
      "\n",
      "GradientBoostingRegressor - \n",
      "\t R2-Score: 0.9738262886317136 \n",
      "\t RMSE: 1.1370474512785247 \n",
      "\n"
     ]
    }
   ],
   "source": [
    "print(\"RandomForestRegressor - \\n\\t R2-Score:\", RF_regressor.score(x_test, y_test),\n",
    "                 \"\\n\\t RMSE:\", math.sqrt(mean_squared_error(RF_regressor.predict(x_test), y_test)),\"\\n\")\n",
    "      \n",
    "print(\"GradientBoostingRegressor - \\n\\t R2-Score:\", GB_regressor.score(x_test, y_test),\n",
    "                 \"\\n\\t RMSE:\", math.sqrt(mean_squared_error(GB_regressor.predict(x_test), y_test)),\"\\n\")"
   ]
  },
  {
   "cell_type": "markdown",
   "metadata": {},
   "source": [
    "# Choosing the model"
   ]
  },
  {
   "cell_type": "markdown",
   "metadata": {},
   "source": [
    "***We can see that Gradient Boosting Regressor gives better result with an R2-Score of more than 97% and while keeping RMSE value low(=1.1370474). So, XGBoost Regressor should be used as the regression model for this dataset.***"
   ]
  }
 ],
 "metadata": {
  "kernelspec": {
   "display_name": "Python 3",
   "language": "python",
   "name": "python3"
  },
  "language_info": {
   "codemirror_mode": {
    "name": "ipython",
    "version": 3
   },
   "file_extension": ".py",
   "mimetype": "text/x-python",
   "name": "python",
   "nbconvert_exporter": "python",
   "pygments_lexer": "ipython3",
   "version": "3.6.4"
  }
 },
 "nbformat": 4,
 "nbformat_minor": 2
}
